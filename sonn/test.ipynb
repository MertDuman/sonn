{
 "cells": [
  {
   "cell_type": "code",
   "execution_count": 1,
   "metadata": {
    "ExecuteTime": {
     "end_time": "2023-09-14T19:28:40.811648300Z",
     "start_time": "2023-09-14T19:28:38.002518900Z"
    }
   },
   "outputs": [],
   "source": [
    "import torch\n",
    "import torch.nn as nn\n",
    "import torch.nn.functional as F\n",
    "import schedulers\n",
    "\n",
    "from time import perf_counter\n",
    "\n",
    "import pandas as pd\n",
    "import numpy as np\n",
    "\n",
    "from superonn_final import SuperONN2d\n",
    "\n",
    "import matplotlib.pyplot as plt"
   ]
  },
  {
   "cell_type": "code",
   "execution_count": 2,
   "outputs": [],
   "source": [
    "def randomshift_1d(x, shifts, learnable, max_shift, rounded_shifts, padding_mode=\"zeros\"):\n",
    "    x = x.moveaxis(0, 1)\n",
    "    x = x.unsqueeze(-1)\n",
    "    # Take the shape of the input\n",
    "    c, _, h, w = x.size()\n",
    "\n",
    "    # Clamp the center bias in case of too much shift after back-propagation\n",
    "    if learnable:\n",
    "        torch.clamp(shifts, min=-max_shift, max=max_shift)\n",
    "\n",
    "        # Round the biases to the integer values\n",
    "        if rounded_shifts:\n",
    "            torch.round(shifts)\n",
    "\n",
    "    # Normalize the coordinates to [-1, 1] range which is necessary for the grid\n",
    "    a_r = torch.zeros_like(shifts[:, :1])\n",
    "    b_r = shifts[:, 1:] / (h / 2)\n",
    "\n",
    "    # Create the transformation matrix\n",
    "    aff_mtx = torch.eye(3).to(x.device)\n",
    "    aff_mtx = aff_mtx.repeat(c, 1, 1)\n",
    "    aff_mtx[..., 0, 2:3] += a_r\n",
    "    aff_mtx[..., 1, 2:3] += b_r\n",
    "\n",
    "    # Create the new grid\n",
    "    grid = F.affine_grid(aff_mtx[..., :2, :3], x.size(), align_corners=False)\n",
    "\n",
    "    # Interpolate the input values\n",
    "    x = F.grid_sample(x, grid, mode='bilinear', padding_mode=padding_mode, align_corners=False)\n",
    "    x = x.squeeze(-1)\n",
    "    x = x.moveaxis(0, 1)\n",
    "    return x"
   ],
   "metadata": {
    "collapsed": false,
    "ExecuteTime": {
     "end_time": "2023-09-14T19:28:40.827491Z",
     "start_time": "2023-09-14T19:28:40.812626Z"
    }
   }
  },
  {
   "cell_type": "code",
   "execution_count": 3,
   "outputs": [],
   "source": [
    "def randomshift(x, shifts, learnable, max_shift, rounded_shifts, padding_mode=\"zeros\"):\n",
    "    x = x.moveaxis(0, 1)\n",
    "    # Take the shape of the input\n",
    "    c, _, h, w = x.size()\n",
    "\n",
    "    # Clamp the center bias in case of too much shift after back-propagation\n",
    "    if learnable:\n",
    "        torch.clamp(shifts, min=-max_shift, max=max_shift)\n",
    "\n",
    "        # Round the biases to the integer values\n",
    "        if rounded_shifts:\n",
    "            torch.round(shifts)\n",
    "\n",
    "    # Normalize the coordinates to [-1, 1] range which is necessary for the grid\n",
    "    a_r = shifts[:, :1] / (w / 2)\n",
    "    b_r = shifts[:, 1:] / (h / 2)\n",
    "\n",
    "    # Create the transformation matrix\n",
    "    aff_mtx = torch.eye(3).to(x.device)\n",
    "    aff_mtx = aff_mtx.repeat(c, 1, 1)\n",
    "    aff_mtx[..., 0, 2:3] += a_r\n",
    "    aff_mtx[..., 1, 2:3] += b_r\n",
    "\n",
    "    # Create the new grid\n",
    "    grid = F.affine_grid(aff_mtx[..., :2, :3], x.size(), align_corners=False)\n",
    "\n",
    "    # Interpolate the input values\n",
    "    x = F.grid_sample(x, grid, mode='bilinear', padding_mode=padding_mode, align_corners=False)\n",
    "    x = x.moveaxis(0, 1)\n",
    "    return x"
   ],
   "metadata": {
    "collapsed": false,
    "ExecuteTime": {
     "end_time": "2023-09-14T19:28:40.853266800Z",
     "start_time": "2023-09-14T19:28:40.830483300Z"
    }
   }
  },
  {
   "cell_type": "code",
   "execution_count": 4,
   "outputs": [],
   "source": [
    "x = torch.arange(100).view(1, 1, 10, 10).float() / 100\n",
    "x = x.repeat(1, 4, 1, 1)\n",
    "shifts = torch.tensor([[5, 0], [-5, 0], [0, 5], [0, -5]])\n",
    "shifted_x = randomshift(x, shifts, learnable=False, max_shift=10, rounded_shifts=False)"
   ],
   "metadata": {
    "collapsed": false,
    "ExecuteTime": {
     "end_time": "2023-09-14T19:28:40.861246300Z",
     "start_time": "2023-09-14T19:28:40.841335800Z"
    }
   }
  },
  {
   "cell_type": "code",
   "execution_count": 5,
   "outputs": [
    {
     "data": {
      "text/plain": "<matplotlib.image.AxesImage at 0x2dc182adc70>"
     },
     "execution_count": 5,
     "metadata": {},
     "output_type": "execute_result"
    },
    {
     "data": {
      "text/plain": "<Figure size 1080x360 with 4 Axes>",
      "image/png": "[encoded data removed]"
     },
     "metadata": {
      "needs_background": "light"
     },
     "output_type": "display_data"
    }
   ],
   "source": [
    "plt.figure(figsize=(15, 5))\n",
    "plt.subplot(1, 4, 1)\n",
    "plt.imshow(shifted_x[0,0], cmap='gray')\n",
    "plt.subplot(1, 4, 2)\n",
    "plt.imshow(shifted_x[0,1], cmap='gray')\n",
    "plt.subplot(1, 4, 3)\n",
    "plt.imshow(shifted_x[0,2], cmap='gray')\n",
    "plt.subplot(1, 4, 4)\n",
    "plt.imshow(shifted_x[0,3], cmap='gray')"
   ],
   "metadata": {
    "collapsed": false,
    "ExecuteTime": {
     "end_time": "2023-09-14T19:28:41.137908900Z",
     "start_time": "2023-09-14T19:28:40.861246300Z"
    }
   }
  },
  {
   "cell_type": "code",
   "execution_count": 6,
   "outputs": [],
   "source": [
    "x = torch.arange(10).repeat(5, 2).view(2, 5, 10)\n",
    "shifts = torch.arange(2).view(-1, 1)\n",
    "randomshift_1d_differentiable(x, shifts, learnable=False, max_shift=10, rounded_shifts=False)"
   ],
   "metadata": {
    "collapsed": false,
    "ExecuteTime": {
     "end_time": "2023-09-14T19:28:41.159827700Z",
     "start_time": "2023-09-14T19:28:41.138915600Z"
    }
   }
  },
  {
   "cell_type": "code",
   "execution_count": 7,
   "outputs": [
    {
     "data": {
      "text/plain": "[<matplotlib.lines.Line2D at 0x2dc183b13d0>]"
     },
     "execution_count": 7,
     "metadata": {},
     "output_type": "execute_result"
    },
    {
     "data": {
      "text/plain": "<Figure size 432x288 with 1 Axes>",
      "image/png": "[encoded data removed]"
     },
     "metadata": {
      "needs_background": "light"
     },
     "output_type": "display_data"
    }
   ],
   "source": [
    "a = torch.eye(3)\n",
    "a = a.repeat(3, 1, 1)\n",
    "a[..., 2:3] = 5\n",
    "a"
   ],
   "metadata": {
    "collapsed": false,
    "ExecuteTime": {
     "end_time": "2023-09-14T19:28:41.246110100Z",
     "start_time": "2023-09-14T19:28:41.154840200Z"
    }
   }
  },
  {
   "cell_type": "code",
   "execution_count": 8,
   "metadata": {
    "ExecuteTime": {
     "end_time": "2023-09-14T19:28:41.413742900Z",
     "start_time": "2023-09-14T19:28:41.247107700Z"
    }
   },
   "outputs": [
    {
     "data": {
      "text/plain": "[<matplotlib.lines.Line2D at 0x2dc1845d550>]"
     },
     "execution_count": 8,
     "metadata": {},
     "output_type": "execute_result"
    },
    {
     "data": {
      "text/plain": "<Figure size 1080x360 with 2 Axes>",
      "image/png": "[encoded data removed]"
     },
     "metadata": {
      "needs_background": "light"
     },
     "output_type": "display_data"
    }
   ],
   "source": [
    "a = torch.tensor([1,3,2,2,3])\n",
    "b = torch.tensor([0,2,1,1,2])\n",
    "torch.repeat_interleave(b, a)"
   ]
  },
  {
   "cell_type": "code",
   "execution_count": 8,
   "metadata": {
    "ExecuteTime": {
     "end_time": "2023-09-14T19:28:41.427554Z",
     "start_time": "2023-09-14T19:28:41.410750300Z"
    }
   },
   "outputs": [],
   "source": [
    "x = torch.ones(1,3,2,2)\n",
    "x[:, 0, :, :] = 2\n",
    "x[:, 1, :, :] = 3\n",
    "x[:, 2, :, :] = 4\n",
    "\n",
    "q = 1\n",
    "\n",
    "# we want    2, 4, 8 - 3, 9, 27 - 4, 16, 64\n",
    "# instead of 2, 3, 4 - 4, 9, 16 - 8, 27, 64"
   ]
  },
  {
   "cell_type": "code",
   "execution_count": 8,
   "metadata": {
    "ExecuteTime": {
     "end_time": "2023-09-14T19:28:41.462094600Z",
     "start_time": "2023-09-14T19:28:41.428516700Z"
    }
   },
   "outputs": [],
   "source": [
    "def take_qth_power(x, q, dim=1, with_w0=False):\n",
    "    if with_w0:\n",
    "        powers = torch.arange(0, q+1, device=x.device).repeat(x.shape[dim])\n",
    "        x = x.repeat_interleave(q+1, dim=dim)\n",
    "    else:\n",
    "        powers = torch.arange(1, q+1, device=x.device).repeat(x.shape[dim])\n",
    "        x = x.repeat_interleave(q, dim=dim)\n",
    "    y = torch.pow(x.transpose(dim, -1), powers)\n",
    "    y = y.transpose(dim, -1)\n",
    "    return y\n",
    "\n",
    "def take_qth_power_v2(x, q, dim=1, with_w0=False):\n",
    "    N, C, H, W = x.shape\n",
    "    start = 0 if with_w0 else 1\n",
    "    total = q+1 if with_w0 else q\n",
    "    x = torch.cat([x**i for i in range(start, q+1)], dim=1)\n",
    "    x = x.reshape(N, total, C, H, W).transpose(1, 2).reshape(N, C*total, H, W)\n",
    "    return x"
   ]
  },
  {
   "cell_type": "code",
   "execution_count": 148,
   "metadata": {
    "ExecuteTime": {
     "end_time": "2023-09-14T19:57:23.010508200Z",
     "start_time": "2023-09-14T19:57:22.604229500Z"
    }
   },
   "outputs": [
    {
     "data": {
      "text/plain": "<Figure size 720x216 with 3 Axes>",
      "image/png": "[encoded data removed]"
     },
     "metadata": {
      "needs_background": "light"
     },
     "output_type": "display_data"
    },
    {
     "data": {
      "text/plain": "<Figure size 720x216 with 3 Axes>",
      "image/png": "[encoded data removed]"
     },
     "metadata": {
      "needs_background": "light"
     },
     "output_type": "display_data"
    }
   ],
   "source": [
    "take_qth_power_v2(x, q, with_w0=False)"
   ]
  },
  {
   "cell_type": "code",
   "execution_count": 155,
   "metadata": {
    "ExecuteTime": {
     "end_time": "2023-09-14T19:58:52.670190300Z",
     "start_time": "2023-09-14T19:58:52.483361800Z"
    }
   },
   "outputs": [
    {
     "name": "stdout",
     "output_type": "stream",
     "text": [
      "tensor([[[ 4.],\n",
      "         [ 0.],\n",
      "         [-3.]]], grad_fn=<MulBackward0>) torch.Size([1, 3, 1])\n"
     ]
    },
    {
     "data": {
      "text/plain": "<Figure size 432x288 with 1 Axes>",
      "image/png": "[encoded data removed]"
     },
     "metadata": {
      "needs_background": "light"
     },
     "output_type": "display_data"
    },
    {
     "data": {
      "text/plain": "<Figure size 432x288 with 1 Axes>",
      "image/png": "[encoded data removed]"
     },
     "metadata": {
      "needs_background": "light"
     },
     "output_type": "display_data"
    }
   ],
   "source": [
    "def take_qth_power(x, q, powers=None, dim=1, with_w0=False):\n",
    "    if with_w0:\n",
    "        powers = torch.arange(0, q+1, device=x.device).repeat(x.shape[dim])\n",
    "        x = x.repeat_interleave(q+1, dim=dim)\n",
    "    else:\n",
    "        powers = torch.arange(1, q+1, device=x.device).repeat(x.shape[dim])\n",
    "        x = x.repeat_interleave(q, dim=dim)\n",
    "    y = torch.pow(x.transpose(dim, -1), powers)\n",
    "    y = y.transpose(dim, -1)\n",
    "    return y"
   ]
  },
  {
   "cell_type": "code",
   "execution_count": 96,
   "metadata": {
    "ExecuteTime": {
     "end_time": "2023-09-14T19:41:06.014925200Z",
     "start_time": "2023-09-14T19:41:06.000974400Z"
    }
   },
   "outputs": [
    {
     "name": "stdout",
     "output_type": "stream",
     "text": [
      "torch.Size([5, 7, 12])\n"
     ]
    }
   ],
   "source": [
    "son = SuperONN2d(3, 3, kernel_size=5, padding=5//2, q=2, shift_init='random_int', max_shift=10)\n",
    "son.shifts"
   ]
  },
  {
   "cell_type": "code",
   "execution_count": 24,
   "metadata": {
    "ExecuteTime": {
     "end_time": "2023-09-14T19:29:59.474660800Z",
     "start_time": "2023-09-14T19:29:59.394893100Z"
    }
   },
   "outputs": [
    {
     "ename": "RuntimeError",
     "evalue": "grid_sampler_2d_cpu not implemented for Long",
     "output_type": "error",
     "traceback": [
      "\u001B[1;31m---------------------------------------------------------------------------\u001B[0m",
      "\u001B[1;31mRuntimeError\u001B[0m                              Traceback (most recent call last)",
      "Cell \u001B[1;32mIn[24], line 3\u001B[0m\n\u001B[0;32m      1\u001B[0m x \u001B[38;5;241m=\u001B[39m torch\u001B[38;5;241m.\u001B[39marange(\u001B[38;5;241m12\u001B[39m)\u001B[38;5;241m.\u001B[39mrepeat(\u001B[38;5;241m5\u001B[39m, \u001B[38;5;241m3\u001B[39m, \u001B[38;5;241m1\u001B[39m)\n\u001B[0;32m      2\u001B[0m sonn1d \u001B[38;5;241m=\u001B[39m SuperONN1d(\u001B[38;5;241m3\u001B[39m, \u001B[38;5;241m7\u001B[39m, kernel_size\u001B[38;5;241m=\u001B[39m\u001B[38;5;241m3\u001B[39m, padding\u001B[38;5;241m=\u001B[39m\u001B[38;5;241m1\u001B[39m, q\u001B[38;5;241m=\u001B[39m\u001B[38;5;241m2\u001B[39m, max_shift\u001B[38;5;241m=\u001B[39m\u001B[38;5;124m'\u001B[39m\u001B[38;5;124mauto\u001B[39m\u001B[38;5;124m'\u001B[39m, learnable\u001B[38;5;241m=\u001B[39m\u001B[38;5;28;01mTrue\u001B[39;00m)\n\u001B[1;32m----> 3\u001B[0m y \u001B[38;5;241m=\u001B[39m \u001B[43msonn1d\u001B[49m\u001B[43m(\u001B[49m\u001B[43mx\u001B[49m\u001B[43m)\u001B[49m\n\u001B[0;32m      4\u001B[0m plt\u001B[38;5;241m.\u001B[39mplot(y[\u001B[38;5;241m0\u001B[39m]\u001B[38;5;241m.\u001B[39mdetach()\u001B[38;5;241m.\u001B[39mT)\n",
      "File \u001B[1;32mC:\\Python\\Python38\\lib\\site-packages\\torch\\nn\\modules\\module.py:1502\u001B[0m, in \u001B[0;36mModule._wrapped_call_impl\u001B[1;34m(self, *args, **kwargs)\u001B[0m\n\u001B[0;32m   1500\u001B[0m     \u001B[38;5;28;01mreturn\u001B[39;00m \u001B[38;5;28mself\u001B[39m\u001B[38;5;241m.\u001B[39m_compiled_call_impl(\u001B[38;5;241m*\u001B[39margs, \u001B[38;5;241m*\u001B[39m\u001B[38;5;241m*\u001B[39mkwargs)  \u001B[38;5;66;03m# type: ignore[misc]\u001B[39;00m\n\u001B[0;32m   1501\u001B[0m \u001B[38;5;28;01melse\u001B[39;00m:\n\u001B[1;32m-> 1502\u001B[0m     \u001B[38;5;28;01mreturn\u001B[39;00m \u001B[38;5;28;43mself\u001B[39;49m\u001B[38;5;241;43m.\u001B[39;49m\u001B[43m_call_impl\u001B[49m\u001B[43m(\u001B[49m\u001B[38;5;241;43m*\u001B[39;49m\u001B[43margs\u001B[49m\u001B[43m,\u001B[49m\u001B[43m \u001B[49m\u001B[38;5;241;43m*\u001B[39;49m\u001B[38;5;241;43m*\u001B[39;49m\u001B[43mkwargs\u001B[49m\u001B[43m)\u001B[49m\n",
      "File \u001B[1;32mC:\\Python\\Python38\\lib\\site-packages\\torch\\nn\\modules\\module.py:1511\u001B[0m, in \u001B[0;36mModule._call_impl\u001B[1;34m(self, *args, **kwargs)\u001B[0m\n\u001B[0;32m   1506\u001B[0m \u001B[38;5;66;03m# If we don't have any hooks, we want to skip the rest of the logic in\u001B[39;00m\n\u001B[0;32m   1507\u001B[0m \u001B[38;5;66;03m# this function, and just call forward.\u001B[39;00m\n\u001B[0;32m   1508\u001B[0m \u001B[38;5;28;01mif\u001B[39;00m \u001B[38;5;129;01mnot\u001B[39;00m (\u001B[38;5;28mself\u001B[39m\u001B[38;5;241m.\u001B[39m_backward_hooks \u001B[38;5;129;01mor\u001B[39;00m \u001B[38;5;28mself\u001B[39m\u001B[38;5;241m.\u001B[39m_backward_pre_hooks \u001B[38;5;129;01mor\u001B[39;00m \u001B[38;5;28mself\u001B[39m\u001B[38;5;241m.\u001B[39m_forward_hooks \u001B[38;5;129;01mor\u001B[39;00m \u001B[38;5;28mself\u001B[39m\u001B[38;5;241m.\u001B[39m_forward_pre_hooks\n\u001B[0;32m   1509\u001B[0m         \u001B[38;5;129;01mor\u001B[39;00m _global_backward_pre_hooks \u001B[38;5;129;01mor\u001B[39;00m _global_backward_hooks\n\u001B[0;32m   1510\u001B[0m         \u001B[38;5;129;01mor\u001B[39;00m _global_forward_hooks \u001B[38;5;129;01mor\u001B[39;00m _global_forward_pre_hooks):\n\u001B[1;32m-> 1511\u001B[0m     \u001B[38;5;28;01mreturn\u001B[39;00m \u001B[43mforward_call\u001B[49m\u001B[43m(\u001B[49m\u001B[38;5;241;43m*\u001B[39;49m\u001B[43margs\u001B[49m\u001B[43m,\u001B[49m\u001B[43m \u001B[49m\u001B[38;5;241;43m*\u001B[39;49m\u001B[38;5;241;43m*\u001B[39;49m\u001B[43mkwargs\u001B[49m\u001B[43m)\u001B[49m\n\u001B[0;32m   1512\u001B[0m \u001B[38;5;66;03m# Do not call functions when jit is used\u001B[39;00m\n\u001B[0;32m   1513\u001B[0m full_backward_hooks, non_full_backward_hooks \u001B[38;5;241m=\u001B[39m [], []\n",
      "File \u001B[1;32mC:\\User Files\\PythonLibraries\\deeplearning\\sonn_library\\sonn\\superonn_final_1d.py:261\u001B[0m, in \u001B[0;36mSuperONN1d.forward\u001B[1;34m(self, x)\u001B[0m\n\u001B[0;32m    258\u001B[0m \u001B[38;5;28;01mif\u001B[39;00m \u001B[38;5;28mself\u001B[39m\u001B[38;5;241m.\u001B[39mmax_shift \u001B[38;5;241m>\u001B[39m \u001B[38;5;241m0\u001B[39m:\n\u001B[0;32m    259\u001B[0m     \u001B[38;5;66;03m# (full_groups, shift_groups, 2) => (full_groups, in_channels, 2) => (full_groups x in_channels, 2)\u001B[39;00m\n\u001B[0;32m    260\u001B[0m     shifts \u001B[38;5;241m=\u001B[39m torch\u001B[38;5;241m.\u001B[39mrepeat_interleave(\u001B[38;5;28mself\u001B[39m\u001B[38;5;241m.\u001B[39mshifts, \u001B[38;5;28mself\u001B[39m\u001B[38;5;241m.\u001B[39min_channels \u001B[38;5;241m/\u001B[39m\u001B[38;5;241m/\u001B[39m \u001B[38;5;28mself\u001B[39m\u001B[38;5;241m.\u001B[39mshift_groups, dim\u001B[38;5;241m=\u001B[39m\u001B[38;5;241m1\u001B[39m)\u001B[38;5;241m.\u001B[39mreshape(\u001B[38;5;28mself\u001B[39m\u001B[38;5;241m.\u001B[39mfull_groups \u001B[38;5;241m*\u001B[39m \u001B[38;5;28mself\u001B[39m\u001B[38;5;241m.\u001B[39min_channels, \u001B[38;5;241m1\u001B[39m)\n\u001B[1;32m--> 261\u001B[0m     x \u001B[38;5;241m=\u001B[39m \u001B[43mrandomshift_1d\u001B[49m\u001B[43m(\u001B[49m\u001B[43mx\u001B[49m\u001B[43m,\u001B[49m\u001B[43m \u001B[49m\u001B[43mshifts\u001B[49m\u001B[43m \u001B[49m\u001B[38;5;241;43m*\u001B[39;49m\u001B[43m \u001B[49m\u001B[38;5;28;43mself\u001B[39;49m\u001B[38;5;241;43m.\u001B[39;49m\u001B[43mmax_shift\u001B[49m\u001B[43m,\u001B[49m\u001B[43m \u001B[49m\u001B[38;5;28;43mself\u001B[39;49m\u001B[38;5;241;43m.\u001B[39;49m\u001B[43mlearnable\u001B[49m\u001B[43m,\u001B[49m\u001B[43m \u001B[49m\u001B[38;5;28;43mself\u001B[39;49m\u001B[38;5;241;43m.\u001B[39;49m\u001B[43mmax_shift\u001B[49m\u001B[43m,\u001B[49m\u001B[43m \u001B[49m\u001B[38;5;28;43mself\u001B[39;49m\u001B[38;5;241;43m.\u001B[39;49m\u001B[43mrounded_shifts\u001B[49m\u001B[43m,\u001B[49m\u001B[43m \u001B[49m\u001B[38;5;28;43mself\u001B[39;49m\u001B[38;5;241;43m.\u001B[39;49m\u001B[43mfill_mode\u001B[49m\u001B[43m)\u001B[49m  \u001B[38;5;66;03m##### Normalize back to original range!!\u001B[39;00m\n\u001B[0;32m    263\u001B[0m \u001B[38;5;28;01mif\u001B[39;00m \u001B[38;5;28mself\u001B[39m\u001B[38;5;241m.\u001B[39mfull_groups \u001B[38;5;241m>\u001B[39m \u001B[38;5;241m1\u001B[39m:\n\u001B[0;32m    264\u001B[0m     \u001B[38;5;66;03m# (N, full_groups * in_channels, L) => (N, full_groups, in_channels, L) =>\u001B[39;00m\n\u001B[0;32m    265\u001B[0m     \u001B[38;5;66;03m# (N, full_groups, q * in_channels, L) => (N, full_groups * q * in_channels, L)\u001B[39;00m\n\u001B[0;32m    266\u001B[0m     \u001B[38;5;66;03m# We have full_groups many q many in_channels x L tensors.\u001B[39;00m\n\u001B[0;32m    267\u001B[0m     x \u001B[38;5;241m=\u001B[39m x\u001B[38;5;241m.\u001B[39mreshape(N, \u001B[38;5;28mself\u001B[39m\u001B[38;5;241m.\u001B[39mfull_groups, \u001B[38;5;28mself\u001B[39m\u001B[38;5;241m.\u001B[39min_channels, L)\n",
      "File \u001B[1;32mC:\\User Files\\PythonLibraries\\deeplearning\\sonn_library\\sonn\\superonn_final_1d.py:39\u001B[0m, in \u001B[0;36mrandomshift_1d\u001B[1;34m(x, shifts, learnable, max_shift, rounded_shifts, padding_mode)\u001B[0m\n\u001B[0;32m     36\u001B[0m grid \u001B[38;5;241m=\u001B[39m F\u001B[38;5;241m.\u001B[39maffine_grid(aff_mtx[\u001B[38;5;241m.\u001B[39m\u001B[38;5;241m.\u001B[39m\u001B[38;5;241m.\u001B[39m, :\u001B[38;5;241m2\u001B[39m, :\u001B[38;5;241m3\u001B[39m], x\u001B[38;5;241m.\u001B[39msize(), align_corners\u001B[38;5;241m=\u001B[39m\u001B[38;5;28;01mFalse\u001B[39;00m)\n\u001B[0;32m     38\u001B[0m \u001B[38;5;66;03m# Interpolate the input values\u001B[39;00m\n\u001B[1;32m---> 39\u001B[0m x \u001B[38;5;241m=\u001B[39m \u001B[43mF\u001B[49m\u001B[38;5;241;43m.\u001B[39;49m\u001B[43mgrid_sample\u001B[49m\u001B[43m(\u001B[49m\u001B[43mx\u001B[49m\u001B[43m,\u001B[49m\u001B[43m \u001B[49m\u001B[43mgrid\u001B[49m\u001B[43m,\u001B[49m\u001B[43m \u001B[49m\u001B[43mmode\u001B[49m\u001B[38;5;241;43m=\u001B[39;49m\u001B[38;5;124;43m'\u001B[39;49m\u001B[38;5;124;43mbilinear\u001B[39;49m\u001B[38;5;124;43m'\u001B[39;49m\u001B[43m,\u001B[49m\u001B[43m \u001B[49m\u001B[43mpadding_mode\u001B[49m\u001B[38;5;241;43m=\u001B[39;49m\u001B[43mpadding_mode\u001B[49m\u001B[43m,\u001B[49m\u001B[43m \u001B[49m\u001B[43malign_corners\u001B[49m\u001B[38;5;241;43m=\u001B[39;49m\u001B[38;5;28;43;01mFalse\u001B[39;49;00m\u001B[43m)\u001B[49m\n\u001B[0;32m     40\u001B[0m x \u001B[38;5;241m=\u001B[39m x\u001B[38;5;241m.\u001B[39msqueeze(\u001B[38;5;241m-\u001B[39m\u001B[38;5;241m1\u001B[39m)\n\u001B[0;32m     41\u001B[0m x \u001B[38;5;241m=\u001B[39m x\u001B[38;5;241m.\u001B[39mmoveaxis(\u001B[38;5;241m0\u001B[39m, \u001B[38;5;241m1\u001B[39m)\n",
      "File \u001B[1;32mC:\\Python\\Python38\\lib\\site-packages\\torch\\nn\\functional.py:4289\u001B[0m, in \u001B[0;36mgrid_sample\u001B[1;34m(input, grid, mode, padding_mode, align_corners)\u001B[0m\n\u001B[0;32m   4281\u001B[0m     warnings\u001B[38;5;241m.\u001B[39mwarn(\n\u001B[0;32m   4282\u001B[0m         \u001B[38;5;124m\"\u001B[39m\u001B[38;5;124mDefault grid_sample and affine_grid behavior has changed \u001B[39m\u001B[38;5;124m\"\u001B[39m\n\u001B[0;32m   4283\u001B[0m         \u001B[38;5;124m\"\u001B[39m\u001B[38;5;124mto align_corners=False since 1.3.0. Please specify \u001B[39m\u001B[38;5;124m\"\u001B[39m\n\u001B[0;32m   4284\u001B[0m         \u001B[38;5;124m\"\u001B[39m\u001B[38;5;124malign_corners=True if the old behavior is desired. \u001B[39m\u001B[38;5;124m\"\u001B[39m\n\u001B[0;32m   4285\u001B[0m         \u001B[38;5;124m\"\u001B[39m\u001B[38;5;124mSee the documentation of grid_sample for details.\u001B[39m\u001B[38;5;124m\"\u001B[39m\n\u001B[0;32m   4286\u001B[0m     )\n\u001B[0;32m   4287\u001B[0m     align_corners \u001B[38;5;241m=\u001B[39m \u001B[38;5;28;01mFalse\u001B[39;00m\n\u001B[1;32m-> 4289\u001B[0m \u001B[38;5;28;01mreturn\u001B[39;00m \u001B[43mtorch\u001B[49m\u001B[38;5;241;43m.\u001B[39;49m\u001B[43mgrid_sampler\u001B[49m\u001B[43m(\u001B[49m\u001B[38;5;28;43minput\u001B[39;49m\u001B[43m,\u001B[49m\u001B[43m \u001B[49m\u001B[43mgrid\u001B[49m\u001B[43m,\u001B[49m\u001B[43m \u001B[49m\u001B[43mmode_enum\u001B[49m\u001B[43m,\u001B[49m\u001B[43m \u001B[49m\u001B[43mpadding_mode_enum\u001B[49m\u001B[43m,\u001B[49m\u001B[43m \u001B[49m\u001B[43malign_corners\u001B[49m\u001B[43m)\u001B[49m\n",
      "\u001B[1;31mRuntimeError\u001B[0m: grid_sampler_2d_cpu not implemented for Long"
     ]
    }
   ],
   "source": [
    "x = torch.randn(2, 3, 4, 4, device='cuda')"
   ]
  },
  {
   "cell_type": "code",
   "execution_count": null,
   "metadata": {},
   "outputs": [],
   "source": [
    "q = 3\n",
    "y1 = torch.cat([x**i for i in range(1, q+1)], dim=1)\n",
    "y11 = torch.pow(x.repeat((1,q,1,1)).transpose(1, -1), torch.arange(1, q+1, device=x.device).repeat_interleave(x.shape[1])).transpose(1, -1)\n",
    "y2 = take_qth_power(x, q, dim=1, with_w0=False)"
   ]
  },
  {
   "cell_type": "code",
   "execution_count": null,
   "metadata": {},
   "outputs": [],
   "source": [
    "%%timeit\n",
    "y1 = torch.cat([x**i for i in range(1, q+1)], dim=1)"
   ]
  },
  {
   "cell_type": "code",
   "execution_count": null,
   "metadata": {},
   "outputs": [],
   "source": [
    "%%timeit\n",
    "y11 = torch.pow(x.repeat((1,q,1,1)).transpose(1, -1), torch.arange(1, q+1, device=x.device).repeat_interleave(x.shape[1])).transpose(1, -1)"
   ]
  },
  {
   "cell_type": "code",
   "execution_count": null,
   "metadata": {},
   "outputs": [],
   "source": [
    "powers = torch.arange(1, q+1, device=x.device).repeat(x.shape[1])"
   ]
  },
  {
   "cell_type": "code",
   "execution_count": null,
   "metadata": {},
   "outputs": [],
   "source": [
    "%%timeit\n",
    "y2 = take_qth_power(x, q, powers, dim=1, with_w0=False)"
   ]
  },
  {
   "cell_type": "code",
   "execution_count": null,
   "metadata": {},
   "outputs": [],
   "source": [
    "s = SuperONN2d(64, 64, q=3, kernel_size=3, padding=1, groups='depthwise', full_groups=2)"
   ]
  },
  {
   "cell_type": "code",
   "execution_count": null,
   "metadata": {},
   "outputs": [],
   "source": [
    "batch_size = 2\n",
    "channels = 3\n",
    "height = 5\n",
    "width = 5\n",
    "inputs = 2*torch.ones(batch_size, channels, height, width)"
   ]
  },
  {
   "cell_type": "code",
   "execution_count": null,
   "metadata": {},
   "outputs": [],
   "source": [
    "out = torch.pow(inputs.permute(0,2,3,1),torch.tensor([1,2,3]))"
   ]
  },
  {
   "cell_type": "code",
   "execution_count": null,
   "metadata": {},
   "outputs": [],
   "source": [
    "out = out.permute(0,3,1,2)"
   ]
  },
  {
   "cell_type": "code",
   "execution_count": null,
   "metadata": {},
   "outputs": [],
   "source": [
    "out.repeat((1,3,1,1))\n",
    "torch.arange(1,4).repeat(inputs.shape[1])\n"
   ]
  },
  {
   "cell_type": "code",
   "execution_count": null,
   "metadata": {},
   "outputs": [],
   "source": [
    "def take_qth_power(x, q, dim=1, with_ones=False):\n",
    "    if with_ones:\n",
    "        powers = torch.arange(0, q+1).repeat(x.shape[dim])\n",
    "        x = x.repeat_interleave(q+1, dim=dim)\n",
    "    else:\n",
    "        powers = torch.arange(1, q+1).repeat(x.shape[dim])\n",
    "        x = x.repeat_interleave(q, dim=dim)\n",
    "    y = torch.pow(x.transpose(dim, -1), powers)\n",
    "    y = y.transpose(dim, -1)\n",
    "    return y"
   ]
  },
  {
   "cell_type": "code",
   "execution_count": null,
   "metadata": {},
   "outputs": [],
   "source": [
    "import torch\n",
    "\n",
    "# Create input tensor of shape (batch_size, channels, height, width)\n",
    "batch_size = 2\n",
    "channels = 3\n",
    "height = 2\n",
    "width = 2\n",
    "x = 2*torch.ones(batch_size, channels, height, width)\n",
    "q = 2\n",
    "\n",
    "y = take_qth_power(x, q, with_ones=True)\n",
    "print(y.shape)"
   ]
  },
  {
   "cell_type": "code",
   "execution_count": null,
   "metadata": {},
   "outputs": [],
   "source": []
  },
  {
   "cell_type": "code",
   "execution_count": null,
   "metadata": {},
   "outputs": [],
   "source": [
    "sonn2d = SuperONN2d(3, 3, kernel_size=3, padding=1, q=2)"
   ]
  },
  {
   "cell_type": "code",
   "execution_count": null,
   "metadata": {},
   "outputs": [],
   "source": [
    "x = torch.randn(2, 3, 4, 4)\n",
    "x = (x - x.amin(dim=(2,3), keepdim=True)) / (x.amax(dim=(2,3), keepdim=True) - x.amin(dim=(2,3), keepdim=True))\n",
    "sonn2d(x)"
   ]
  },
  {
   "cell_type": "code",
   "execution_count": null,
   "metadata": {},
   "outputs": [],
   "source": []
  },
  {
   "cell_type": "code",
   "execution_count": null,
   "metadata": {},
   "outputs": [],
   "source": []
  },
  {
   "cell_type": "code",
   "execution_count": null,
   "metadata": {},
   "outputs": [],
   "source": []
  },
  {
   "cell_type": "code",
   "execution_count": null,
   "metadata": {},
   "outputs": [],
   "source": []
  },
  {
   "cell_type": "code",
   "execution_count": null,
   "metadata": {},
   "outputs": [],
   "source": []
  },
  {
   "cell_type": "code",
   "execution_count": null,
   "metadata": {},
   "outputs": [],
   "source": []
  },
  {
   "cell_type": "code",
   "execution_count": null,
   "metadata": {},
   "outputs": [],
   "source": []
  },
  {
   "cell_type": "code",
   "execution_count": null,
   "metadata": {},
   "outputs": [],
   "source": []
  },
  {
   "cell_type": "code",
   "execution_count": null,
   "metadata": {},
   "outputs": [],
   "source": []
  },
  {
   "cell_type": "code",
   "execution_count": null,
   "metadata": {},
   "outputs": [],
   "source": []
  },
  {
   "cell_type": "code",
   "execution_count": null,
   "metadata": {},
   "outputs": [],
   "source": []
  },
  {
   "cell_type": "code",
   "execution_count": null,
   "metadata": {},
   "outputs": [],
   "source": []
  },
  {
   "cell_type": "code",
   "execution_count": null,
   "metadata": {},
   "outputs": [],
   "source": []
  },
  {
   "cell_type": "code",
   "execution_count": null,
   "metadata": {},
   "outputs": [],
   "source": []
  },
  {
   "cell_type": "code",
   "execution_count": null,
   "metadata": {},
   "outputs": [],
   "source": []
  },
  {
   "cell_type": "code",
   "execution_count": null,
   "metadata": {},
   "outputs": [],
   "source": []
  },
  {
   "cell_type": "code",
   "execution_count": null,
   "metadata": {},
   "outputs": [],
   "source": []
  },
  {
   "cell_type": "code",
   "execution_count": null,
   "metadata": {},
   "outputs": [],
   "source": []
  },
  {
   "cell_type": "code",
   "execution_count": null,
   "metadata": {},
   "outputs": [],
   "source": []
  },
  {
   "cell_type": "code",
   "execution_count": null,
   "metadata": {},
   "outputs": [],
   "source": []
  },
  {
   "cell_type": "code",
   "execution_count": null,
   "metadata": {},
   "outputs": [],
   "source": []
  },
  {
   "cell_type": "code",
   "execution_count": null,
   "metadata": {},
   "outputs": [],
   "source": [
    "class A:\n",
    "    from math import gcd\n",
    "    from sklearn.metrics import roc_auc_score\n",
    "\n",
    "    def do(self, x, y):\n",
    "        print(self.roc_auc_score(y_true=[0,1,1,0], y_score=[0.2,0.3,0.4,0.5]))\n",
    "        return self.gcd(x, y)"
   ]
  },
  {
   "cell_type": "code",
   "execution_count": null,
   "metadata": {},
   "outputs": [],
   "source": [
    "from sklearn.metrics import roc_auc_score\n",
    "print(roc_auc_score(y_true=[0,1,1,0], y_score=[0.2,0.3,0.4,0.5]))"
   ]
  },
  {
   "cell_type": "code",
   "execution_count": null,
   "metadata": {},
   "outputs": [],
   "source": [
    "A().do(10, 5)"
   ]
  },
  {
   "cell_type": "code",
   "execution_count": null,
   "metadata": {},
   "outputs": [],
   "source": [
    "x = torch.randn(1, 3, 5, 5)\n",
    "torch.amax(x, dim=1, keepdim=True)"
   ]
  },
  {
   "cell_type": "code",
   "execution_count": null,
   "metadata": {},
   "outputs": [],
   "source": [
    "nn.Conv2d(4, 2, 5, padding=2, groups=1).weight.shape"
   ]
  },
  {
   "cell_type": "code",
   "execution_count": null,
   "metadata": {},
   "outputs": [],
   "source": [
    "sup2d = SuperONN2d(3, 3, 3, padding=2, q=2, bias=False, with_w0=True)"
   ]
  },
  {
   "cell_type": "code",
   "execution_count": null,
   "metadata": {},
   "outputs": [],
   "source": [
    "sup2d.weight.shape"
   ]
  },
  {
   "cell_type": "code",
   "execution_count": null,
   "metadata": {},
   "outputs": [],
   "source": [
    "x = torch.randn(1, 3, 32, 32)"
   ]
  },
  {
   "cell_type": "code",
   "execution_count": null,
   "metadata": {},
   "outputs": [],
   "source": [
    "sup2d_out = sup2d(x)"
   ]
  },
  {
   "cell_type": "code",
   "execution_count": null,
   "metadata": {},
   "outputs": [],
   "source": [
    "plt.imshow(x.squeeze().permute(1,2,0))"
   ]
  },
  {
   "cell_type": "code",
   "execution_count": null,
   "metadata": {},
   "outputs": [],
   "source": [
    "plt.imshow(sup2d_out.detach().squeeze().permute(1,2,0))"
   ]
  },
  {
   "cell_type": "code",
   "execution_count": null,
   "metadata": {},
   "outputs": [],
   "source": [
    "SuperONN2d(4, 2, 5, padding=2, q=2).shifts.shape"
   ]
  },
  {
   "cell_type": "code",
   "execution_count": null,
   "metadata": {},
   "outputs": [],
   "source": [
    "# All channels are shifted by the same amount (e.g. RGB)\n",
    "SuperONN2d(4, 2, 5, padding=2, q=2, shift_groups=1).shifts.shape"
   ]
  },
  {
   "cell_type": "code",
   "execution_count": null,
   "metadata": {},
   "outputs": [],
   "source": [
    "# First half and the second half have different shifts\n",
    "SuperONN2d(4, 2, 5, padding=2, q=2, shift_groups=2).shifts.shape"
   ]
  },
  {
   "cell_type": "code",
   "execution_count": null,
   "metadata": {},
   "outputs": [],
   "source": [
    "# By default, shift_groups = in_channels = 4\n",
    "SuperONN2d(4, 2, 5, padding=2, q=2, shift_groups=4).shifts.shape"
   ]
  },
  {
   "cell_type": "code",
   "execution_count": null,
   "metadata": {},
   "outputs": [],
   "source": [
    "# Reduces complexity by a factor of 'groups'\n",
    "SuperONN2d(9, 18, 5, padding=2, q=2, groups=18).weight.shape"
   ]
  },
  {
   "cell_type": "code",
   "execution_count": null,
   "metadata": {},
   "outputs": [],
   "source": [
    "# Semi-mode BUT 'shift_groups' of neurons have different shifts\n",
    "# AND neurons process channels raised to different powers\n",
    "SuperONN2d(9, 18, 5, padding=2, q=2, groups=18, shift_groups=3).shifts.shape"
   ]
  },
  {
   "cell_type": "code",
   "execution_count": null,
   "metadata": {},
   "outputs": [],
   "source": [
    "SuperONN2d(9, 18, 5, padding=2, q=1, full_groups=6).shifts.shape"
   ]
  },
  {
   "cell_type": "code",
   "execution_count": null,
   "metadata": {},
   "outputs": [],
   "source": [
    "SuperONN2d(9, 18, 5, padding=2, q=3, full_groups=6, groups=6, shift_groups=3).weight.shape"
   ]
  },
  {
   "cell_type": "code",
   "execution_count": null,
   "metadata": {},
   "outputs": [],
   "source": [
    "SuperONN2d(3, 24, 5, padding=2, q=2, full_groups=4, groups=12, shift_groups=3).weight.shape"
   ]
  },
  {
   "cell_type": "code",
   "execution_count": null,
   "metadata": {},
   "outputs": [],
   "source": [
    "for in_c in [3, 8, 16, 64]:\n",
    "    for out_c in [3, 8, 16, 64]:\n",
    "        for q in [2, 3, 4, 5, 6, 7]:\n",
    "            for full_groups in range(out_c):\n",
    "                for groups in range(min(out_c, in_c * q * full_groups)):\n",
    "                    for shift_groups in range(in_c):\n",
    "                        x = torch.randn(1, in_c, 5, 5)\n",
    "\n",
    "                        try:\n",
    "                            sonn = SuperONN2d(\n",
    "                                in_c, \n",
    "                                out_c,\n",
    "                                kernel_size=3,\n",
    "                                padding=1,\n",
    "                                q=q,\n",
    "                                full_groups=full_groups,\n",
    "                                groups=groups,\n",
    "                                shift_groups=shift_groups,\n",
    "                                max_shift=10,\n",
    "                                learnable=True\n",
    "                            )\n",
    "                            conv = nn.Conv2d(in_c, out_c, kernel_size=3, padding=1, groups=groups)\n",
    "                        except Exception as e:\n",
    "                            continue\n",
    "\n",
    "                        try:\n",
    "                            outconv = conv(x)\n",
    "                            outsonn = sonn(x)\n",
    "                        except:\n",
    "                            print(f\"in_c={in_c}, out_c={out_c}, q={q}, full_groups={full_groups}, groups={groups}, shift_groups={shift_groups}\")\n",
    "                            raise Exception(\"Passing through conv/sonn failed\")\n",
    "                        \n",
    "                        if not torch.equal(torch.tensor(outconv.shape), torch.tensor(outsonn.shape)):\n",
    "                            raise Exception(\"Shapes don't match\")\n",
    "                        \n",
    "                        sonnw = torch.tensor(sonn.weight.shape)\n",
    "                        convw = torch.tensor(conv.weight.shape)\n",
    "\n",
    "                        sonnw[1] = sonnw[1] * (sonn.groups // sonn.full_groups) // sonn.q // groups\n",
    "\n",
    "                        if not torch.equal(sonnw, convw):\n",
    "                            print(f\"sonnw={sonnw}, convw={convw}\")\n",
    "                            print(f\"in_c={in_c}, out_c={out_c}, q={q}, full_groups={full_groups}, groups={groups}, shift_groups={shift_groups}\")\n",
    "                            raise Exception(\"Weights don't match\")"
   ]
  },
  {
   "cell_type": "code",
   "execution_count": null,
   "metadata": {},
   "outputs": [],
   "source": [
    "def do_runtime_test(models, x, device, repeats):\n",
    "    assert device != \"cuda\" or torch.cuda.is_available(), \"CUDA not available\"\n",
    "\n",
    "    models = {k: v.to(device) for k, v in models.items()}\n",
    "    x = x.to(device)\n",
    "\n",
    "    # warmup\n",
    "    for model in models:\n",
    "        for _ in range(10):\n",
    "            y = models[model](x)\n",
    "        torch.cuda.synchronize()\n",
    "\n",
    "    runtimes = {}\n",
    "    for model in models:\n",
    "        start = perf_counter()\n",
    "        for _ in range(repeats):\n",
    "            y = models[model](x)\n",
    "        torch.cuda.synchronize()\n",
    "        end = perf_counter()\n",
    "        runtimes[model] = end - start\n",
    "\n",
    "    return runtimes"
   ]
  },
  {
   "cell_type": "code",
   "execution_count": null,
   "metadata": {},
   "outputs": [],
   "source": [
    "device = \"cuda\" if torch.cuda.is_available() else \"cpu\"\n",
    "x = torch.randn(1, 64, 25, 25).to(device)"
   ]
  },
  {
   "cell_type": "code",
   "execution_count": null,
   "metadata": {},
   "outputs": [],
   "source": [
    "models = {\n",
    "    \"sonn\": SuperONN2d(64, 64, q=3, kernel_size=3, padding=1, groups=1, max_shift=10, learnable=True).to(device),\n",
    "    \"sonn_dw\": SuperONN2d(64, 64, q=3, kernel_size=3, padding=1, groups=64, full_groups=1, max_shift=10, learnable=True).to(device),\n",
    "    \"sonn_full\": SuperONN2d(64, 64, q=3, kernel_size=3, padding=1, full_groups=8, groups=8, max_shift=10, learnable=True).to(device),\n",
    "    \"sonn_full_dw\": SuperONN2d(64, 64, q=3, kernel_size=3, padding=1, full_groups=8, groups=64, max_shift=10, learnable=True).to(device),\n",
    "}"
   ]
  },
  {
   "cell_type": "code",
   "execution_count": null,
   "metadata": {},
   "outputs": [],
   "source": [
    "params = {\n",
    "    key: sum(list(map(lambda x: x.numel(), model.parameters()))) for key, model in models.items()\n",
    "}"
   ]
  },
  {
   "cell_type": "code",
   "execution_count": null,
   "metadata": {},
   "outputs": [],
   "source": [
    "gpu_runtimes = do_runtime_test(models, x, device, repeats=1000)\n",
    "cpu_runtimes = do_runtime_test(models, x, \"cpu\", repeats=1000)"
   ]
  },
  {
   "cell_type": "code",
   "execution_count": null,
   "metadata": {},
   "outputs": [],
   "source": [
    "gpu_runtimes"
   ]
  },
  {
   "cell_type": "code",
   "execution_count": null,
   "metadata": {},
   "outputs": [],
   "source": [
    "cpu_runtimes"
   ]
  },
  {
   "cell_type": "code",
   "execution_count": null,
   "metadata": {},
   "outputs": [],
   "source": [
    "data = {model: [params[model], gpu_runtimes[model], cpu_runtimes[model], models[model].defaults] for model in models}"
   ]
  },
  {
   "cell_type": "code",
   "execution_count": null,
   "metadata": {},
   "outputs": [],
   "source": [
    "pd.DataFrame(data, index=[\"params\", \"gpu\", \"cpu\", \"params\"]).T.to_csv(\"superonn_final_runtimes.csv\")"
   ]
  },
  {
   "cell_type": "code",
   "execution_count": null,
   "metadata": {},
   "outputs": [],
   "source": [
    "# Shift repeat test\n",
    "# shift_groups = 3, in_channels = 12\n",
    "shifts = torch.tensor([[0, 1, 2], [0, 1, 2]]).T\n",
    "new_shifts = torch.repeat_interleave(shifts, 12 // 3, 0)\n",
    "\n",
    "assert shifts.shape == (3, 2)\n",
    "assert new_shifts.shape == (12, 2)\n",
    "assert torch.allclose(shifts[0, :], new_shifts[0:4, :])\n",
    "print(shifts)\n",
    "print(new_shifts)"
   ]
  },
  {
   "cell_type": "code",
   "execution_count": null,
   "metadata": {},
   "outputs": [],
   "source": [
    "# Reshape test\n",
    "n = 1\n",
    "in_c = 2\n",
    "out_c = 3\n",
    "h = 2\n",
    "w = 2\n",
    "\n",
    "# A 2x2 image with 2 channels, one of them is all 1s and the other is all 2s.\n",
    "x = torch.tensor([1,1,1,1,2,2,2,2]).reshape(n, in_c, h, w)\n",
    "print(x, x.shape)\n",
    "\n",
    "# Concat the channels out_c times.\n",
    "y = torch.cat([x for _ in range(out_c)], 1)\n",
    "print(y, y.shape)\n",
    "\n",
    "# Now, should we reshape it to (n, in_c, out_c, h, w) or (n, out_c, in_c, h, w)?\n",
    "# (n, out_c, in_c, h, w) is the correct shape, as we have (n x out_c) images with in_c channels, not (n x in_c) images with out_c channels.\n",
    "z = y.reshape(n, out_c, in_c, h, w)\n",
    "print(z)"
   ]
  },
  {
   "cell_type": "code",
   "execution_count": null,
   "metadata": {},
   "outputs": [],
   "source": [
    "# Shift reshape test\n",
    "in_channels = 4\n",
    "full_groups = 3\n",
    "shift_groups = 2\n",
    "shifts = torch.tensor([[[0, 1, 2], [0, 1, 2]], [[0, 1, 2], [0, 1, 2]]]).T\n",
    "print(shifts.shape)\n",
    "\n",
    "new_shifts = torch.repeat_interleave(shifts, in_channels // shift_groups, 1)\n",
    "print(new_shifts.shape)\n",
    "\n",
    "print(shifts.reshape(full_groups * shift_groups, 2))\n",
    "print(new_shifts.reshape(full_groups * in_channels, 2))"
   ]
  },
  {
   "cell_type": "code",
   "execution_count": null,
   "metadata": {},
   "outputs": [],
   "source": [
    "torch.cat(x.tile(4).chunk(4, -1), 1)"
   ]
  },
  {
   "cell_type": "code",
   "execution_count": null,
   "metadata": {},
   "outputs": [],
   "source": []
  }
 ],
 "metadata": {
  "kernelspec": {
   "display_name": "Python 3",
   "language": "python",
   "name": "python3"
  },
  "language_info": {
   "codemirror_mode": {
    "name": "ipython",
    "version": 3
   },
   "file_extension": ".py",
   "mimetype": "text/x-python",
   "name": "python",
   "nbconvert_exporter": "python",
   "pygments_lexer": "ipython3",
   "version": "3.8.10"
  },
  "orig_nbformat": 4,
  "vscode": {
   "interpreter": {
    "hash": "aee8b7b246df8f9039afb4144a1f6fd8d2ca17a180786b69acc140d282b71a49"
   }
  }
 },
 "nbformat": 4,
 "nbformat_minor": 2
}
