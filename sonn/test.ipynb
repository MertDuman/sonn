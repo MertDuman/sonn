{
 "cells": [
  {
   "cell_type": "code",
   "execution_count": 1,
   "metadata": {},
   "outputs": [],
   "source": [
    "import torch\n",
    "import torch.nn as nn\n",
    "import schedulers\n",
    "\n",
    "from time import perf_counter\n",
    "\n",
    "import pandas as pd\n",
    "import numpy as np\n",
    "\n",
    "from superonn_final import SuperONN2d\n",
    "\n",
    "import matplotlib.pyplot as plt"
   ]
  },
  {
   "cell_type": "code",
   "execution_count": 2,
   "metadata": {},
   "outputs": [],
   "source": [
    "def take_qth_power(x, q, powers=None, dim=1, with_w0=False):\n",
    "    if with_w0:\n",
    "        #powers = torch.arange(0, q+1, device=x.device).repeat(x.shape[dim])\n",
    "        x = x.repeat_interleave(q+1, dim=dim)\n",
    "    else:\n",
    "        #powers = torch.arange(1, q+1, device=x.device).repeat(x.shape[dim])\n",
    "        x = x.repeat_interleave(q, dim=dim)\n",
    "    y = torch.pow(x.transpose(dim, -1), powers)\n",
    "    y = y.transpose(dim, -1)\n",
    "    return y"
   ]
  },
  {
   "cell_type": "code",
   "execution_count": 24,
   "metadata": {},
   "outputs": [
    {
     "data": {
      "text/plain": [
       "tensor([[[ 0.2000, -0.5000],\n",
       "         [ 0.5000,  0.4000],\n",
       "         [-0.0000, -0.7000]]])"
      ]
     },
     "execution_count": 24,
     "metadata": {},
     "output_type": "execute_result"
    }
   ],
   "source": [
    "son = SuperONN2d(3, 3, kernel_size=5, padding=5//2, q=2, shift_init='random_int', max_shift=10)\n",
    "son.shifts"
   ]
  },
  {
   "cell_type": "code",
   "execution_count": 19,
   "metadata": {},
   "outputs": [],
   "source": [
    "x = torch.randn(2, 3, 4, 4, device='cuda')"
   ]
  },
  {
   "cell_type": "code",
   "execution_count": 11,
   "metadata": {},
   "outputs": [],
   "source": [
    "q = 3\n",
    "y1 = torch.cat([x**i for i in range(1, q+1)], dim=1)\n",
    "y11 = torch.pow(x.repeat((1,q,1,1)).transpose(1, -1), torch.arange(1, q+1, device=x.device).repeat_interleave(x.shape[1])).transpose(1, -1)\n",
    "y2 = take_qth_power(x, q, dim=1, with_w0=False)"
   ]
  },
  {
   "cell_type": "code",
   "execution_count": 20,
   "metadata": {},
   "outputs": [
    {
     "name": "stdout",
     "output_type": "stream",
     "text": [
      "103 µs ± 10.5 µs per loop (mean ± std. dev. of 7 runs, 10000 loops each)\n"
     ]
    }
   ],
   "source": [
    "%%timeit\n",
    "y1 = torch.cat([x**i for i in range(1, q+1)], dim=1)"
   ]
  },
  {
   "cell_type": "code",
   "execution_count": 13,
   "metadata": {},
   "outputs": [
    {
     "name": "stdout",
     "output_type": "stream",
     "text": [
      "384 µs ± 21.5 µs per loop (mean ± std. dev. of 7 runs, 1000 loops each)\n"
     ]
    }
   ],
   "source": [
    "%%timeit\n",
    "y11 = torch.pow(x.repeat((1,q,1,1)).transpose(1, -1), torch.arange(1, q+1, device=x.device).repeat_interleave(x.shape[1])).transpose(1, -1)"
   ]
  },
  {
   "cell_type": "code",
   "execution_count": 16,
   "metadata": {},
   "outputs": [],
   "source": [
    "powers = torch.arange(1, q+1, device=x.device).repeat(x.shape[1])"
   ]
  },
  {
   "cell_type": "code",
   "execution_count": 21,
   "metadata": {},
   "outputs": [
    {
     "name": "stdout",
     "output_type": "stream",
     "text": [
      "327 µs ± 9.93 µs per loop (mean ± std. dev. of 7 runs, 1000 loops each)\n"
     ]
    }
   ],
   "source": [
    "%%timeit\n",
    "y2 = take_qth_power(x, q, powers, dim=1, with_w0=False)"
   ]
  },
  {
   "cell_type": "code",
   "execution_count": 8,
   "metadata": {},
   "outputs": [
    {
     "ename": "AssertionError",
     "evalue": "out_channels (64) must be a multiple of groups (128)",
     "output_type": "error",
     "traceback": [
      "\u001b[1;31m---------------------------------------------------------------------------\u001b[0m",
      "\u001b[1;31mAssertionError\u001b[0m                            Traceback (most recent call last)",
      "\u001b[1;32m<ipython-input-8-31456a7874a5>\u001b[0m in \u001b[0;36m<module>\u001b[1;34m\u001b[0m\n\u001b[1;32m----> 1\u001b[1;33m \u001b[0ms\u001b[0m \u001b[1;33m=\u001b[0m \u001b[0mSuperONN2d\u001b[0m\u001b[1;33m(\u001b[0m\u001b[1;36m64\u001b[0m\u001b[1;33m,\u001b[0m \u001b[1;36m64\u001b[0m\u001b[1;33m,\u001b[0m \u001b[0mq\u001b[0m\u001b[1;33m=\u001b[0m\u001b[1;36m3\u001b[0m\u001b[1;33m,\u001b[0m \u001b[0mkernel_size\u001b[0m\u001b[1;33m=\u001b[0m\u001b[1;36m3\u001b[0m\u001b[1;33m,\u001b[0m \u001b[0mpadding\u001b[0m\u001b[1;33m=\u001b[0m\u001b[1;36m1\u001b[0m\u001b[1;33m,\u001b[0m \u001b[0mgroups\u001b[0m\u001b[1;33m=\u001b[0m\u001b[1;34m'depthwise'\u001b[0m\u001b[1;33m,\u001b[0m \u001b[0mfull_groups\u001b[0m\u001b[1;33m=\u001b[0m\u001b[1;36m2\u001b[0m\u001b[1;33m)\u001b[0m\u001b[1;33m\u001b[0m\u001b[1;33m\u001b[0m\u001b[0m\n\u001b[0m",
      "\u001b[1;32mc:\\User Files\\PythonLibraries\\deeplearning\\sonn_library\\sonn\\superonn_final.py\u001b[0m in \u001b[0;36m__init__\u001b[1;34m(self, in_channels, out_channels, kernel_size, q, bias, with_w0, padding, stride, dilation, groups, shift_groups, full_groups, learnable, max_shift, rounded_shifts, split_iterations, fill_mode, shift_init, weight_init, dtype, verbose)\u001b[0m\n\u001b[0;32m    153\u001b[0m             \u001b[1;32massert\u001b[0m \u001b[0msum\u001b[0m\u001b[1;33m(\u001b[0m\u001b[0mgroups\u001b[0m\u001b[1;33m)\u001b[0m \u001b[1;33m==\u001b[0m \u001b[0min_channels\u001b[0m \u001b[1;33m*\u001b[0m \u001b[0mself\u001b[0m\u001b[1;33m.\u001b[0m\u001b[0mimpl_q\u001b[0m \u001b[1;33m*\u001b[0m \u001b[0mfull_groups\u001b[0m\u001b[1;33m,\u001b[0m \u001b[1;34mf\"sum of groups ({sum(groups)}) must be in_channels * {impl_q_str} * full_groups ({in_channels * self.impl_q * full_groups})\"\u001b[0m\u001b[1;33m\u001b[0m\u001b[1;33m\u001b[0m\u001b[0m\n\u001b[0;32m    154\u001b[0m         \u001b[1;32melse\u001b[0m\u001b[1;33m:\u001b[0m\u001b[1;33m\u001b[0m\u001b[1;33m\u001b[0m\u001b[0m\n\u001b[1;32m--> 155\u001b[1;33m             \u001b[1;32massert\u001b[0m \u001b[0mout_channels\u001b[0m \u001b[1;33m%\u001b[0m \u001b[0mgroups\u001b[0m \u001b[1;33m==\u001b[0m \u001b[1;36m0\u001b[0m\u001b[1;33m,\u001b[0m \u001b[1;34mf\"out_channels ({out_channels}) must be a multiple of groups ({groups})\"\u001b[0m\u001b[1;33m\u001b[0m\u001b[1;33m\u001b[0m\u001b[0m\n\u001b[0m\u001b[0;32m    156\u001b[0m \u001b[1;33m\u001b[0m\u001b[0m\n\u001b[0;32m    157\u001b[0m             \u001b[1;31m# Ensures that a neuron does not process channels belonging to different full groups.\u001b[0m\u001b[1;33m\u001b[0m\u001b[1;33m\u001b[0m\u001b[1;33m\u001b[0m\u001b[0m\n",
      "\u001b[1;31mAssertionError\u001b[0m: out_channels (64) must be a multiple of groups (128)"
     ]
    }
   ],
   "source": [
    "s = SuperONN2d(64, 64, q=3, kernel_size=3, padding=1, groups='depthwise', full_groups=2)"
   ]
  },
  {
   "cell_type": "code",
   "execution_count": 10,
   "metadata": {},
   "outputs": [],
   "source": [
    "batch_size = 2\n",
    "channels = 3\n",
    "height = 5\n",
    "width = 5\n",
    "inputs = 2*torch.ones(batch_size, channels, height, width)"
   ]
  },
  {
   "cell_type": "code",
   "execution_count": 12,
   "metadata": {},
   "outputs": [],
   "source": [
    "out = torch.pow(inputs.permute(0,2,3,1),torch.tensor([1,2,3]))"
   ]
  },
  {
   "cell_type": "code",
   "execution_count": 15,
   "metadata": {},
   "outputs": [],
   "source": [
    "out = out.permute(0,3,1,2)"
   ]
  },
  {
   "cell_type": "code",
   "execution_count": 18,
   "metadata": {},
   "outputs": [
    {
     "data": {
      "text/plain": [
       "tensor([[[[2., 2., 2., 2., 2.],\n",
       "          [2., 2., 2., 2., 2.],\n",
       "          [2., 2., 2., 2., 2.],\n",
       "          [2., 2., 2., 2., 2.],\n",
       "          [2., 2., 2., 2., 2.]],\n",
       "\n",
       "         [[2., 2., 2., 2., 2.],\n",
       "          [2., 2., 2., 2., 2.],\n",
       "          [2., 2., 2., 2., 2.],\n",
       "          [2., 2., 2., 2., 2.],\n",
       "          [2., 2., 2., 2., 2.]],\n",
       "\n",
       "         [[2., 2., 2., 2., 2.],\n",
       "          [2., 2., 2., 2., 2.],\n",
       "          [2., 2., 2., 2., 2.],\n",
       "          [2., 2., 2., 2., 2.],\n",
       "          [2., 2., 2., 2., 2.]],\n",
       "\n",
       "         [[4., 4., 4., 4., 4.],\n",
       "          [4., 4., 4., 4., 4.],\n",
       "          [4., 4., 4., 4., 4.],\n",
       "          [4., 4., 4., 4., 4.],\n",
       "          [4., 4., 4., 4., 4.]],\n",
       "\n",
       "         [[4., 4., 4., 4., 4.],\n",
       "          [4., 4., 4., 4., 4.],\n",
       "          [4., 4., 4., 4., 4.],\n",
       "          [4., 4., 4., 4., 4.],\n",
       "          [4., 4., 4., 4., 4.]],\n",
       "\n",
       "         [[4., 4., 4., 4., 4.],\n",
       "          [4., 4., 4., 4., 4.],\n",
       "          [4., 4., 4., 4., 4.],\n",
       "          [4., 4., 4., 4., 4.],\n",
       "          [4., 4., 4., 4., 4.]],\n",
       "\n",
       "         [[8., 8., 8., 8., 8.],\n",
       "          [8., 8., 8., 8., 8.],\n",
       "          [8., 8., 8., 8., 8.],\n",
       "          [8., 8., 8., 8., 8.],\n",
       "          [8., 8., 8., 8., 8.]],\n",
       "\n",
       "         [[8., 8., 8., 8., 8.],\n",
       "          [8., 8., 8., 8., 8.],\n",
       "          [8., 8., 8., 8., 8.],\n",
       "          [8., 8., 8., 8., 8.],\n",
       "          [8., 8., 8., 8., 8.]],\n",
       "\n",
       "         [[8., 8., 8., 8., 8.],\n",
       "          [8., 8., 8., 8., 8.],\n",
       "          [8., 8., 8., 8., 8.],\n",
       "          [8., 8., 8., 8., 8.],\n",
       "          [8., 8., 8., 8., 8.]]],\n",
       "\n",
       "\n",
       "        [[[2., 2., 2., 2., 2.],\n",
       "          [2., 2., 2., 2., 2.],\n",
       "          [2., 2., 2., 2., 2.],\n",
       "          [2., 2., 2., 2., 2.],\n",
       "          [2., 2., 2., 2., 2.]],\n",
       "\n",
       "         [[2., 2., 2., 2., 2.],\n",
       "          [2., 2., 2., 2., 2.],\n",
       "          [2., 2., 2., 2., 2.],\n",
       "          [2., 2., 2., 2., 2.],\n",
       "          [2., 2., 2., 2., 2.]],\n",
       "\n",
       "         [[2., 2., 2., 2., 2.],\n",
       "          [2., 2., 2., 2., 2.],\n",
       "          [2., 2., 2., 2., 2.],\n",
       "          [2., 2., 2., 2., 2.],\n",
       "          [2., 2., 2., 2., 2.]],\n",
       "\n",
       "         [[4., 4., 4., 4., 4.],\n",
       "          [4., 4., 4., 4., 4.],\n",
       "          [4., 4., 4., 4., 4.],\n",
       "          [4., 4., 4., 4., 4.],\n",
       "          [4., 4., 4., 4., 4.]],\n",
       "\n",
       "         [[4., 4., 4., 4., 4.],\n",
       "          [4., 4., 4., 4., 4.],\n",
       "          [4., 4., 4., 4., 4.],\n",
       "          [4., 4., 4., 4., 4.],\n",
       "          [4., 4., 4., 4., 4.]],\n",
       "\n",
       "         [[4., 4., 4., 4., 4.],\n",
       "          [4., 4., 4., 4., 4.],\n",
       "          [4., 4., 4., 4., 4.],\n",
       "          [4., 4., 4., 4., 4.],\n",
       "          [4., 4., 4., 4., 4.]],\n",
       "\n",
       "         [[8., 8., 8., 8., 8.],\n",
       "          [8., 8., 8., 8., 8.],\n",
       "          [8., 8., 8., 8., 8.],\n",
       "          [8., 8., 8., 8., 8.],\n",
       "          [8., 8., 8., 8., 8.]],\n",
       "\n",
       "         [[8., 8., 8., 8., 8.],\n",
       "          [8., 8., 8., 8., 8.],\n",
       "          [8., 8., 8., 8., 8.],\n",
       "          [8., 8., 8., 8., 8.],\n",
       "          [8., 8., 8., 8., 8.]],\n",
       "\n",
       "         [[8., 8., 8., 8., 8.],\n",
       "          [8., 8., 8., 8., 8.],\n",
       "          [8., 8., 8., 8., 8.],\n",
       "          [8., 8., 8., 8., 8.],\n",
       "          [8., 8., 8., 8., 8.]]]])"
      ]
     },
     "execution_count": 18,
     "metadata": {},
     "output_type": "execute_result"
    }
   ],
   "source": [
    "out.repeat_interleave(3, dim=1)\n",
    "\n"
   ]
  },
  {
   "cell_type": "code",
   "execution_count": 27,
   "metadata": {},
   "outputs": [
    {
     "data": {
      "text/plain": [
       "tensor([1, 2, 3, 1, 2, 3, 1, 2, 3])"
      ]
     },
     "execution_count": 27,
     "metadata": {},
     "output_type": "execute_result"
    }
   ],
   "source": [
    "out.repeat((1,3,1,1))\n",
    "torch.arange(1,4).repeat(inputs.shape[1])\n"
   ]
  },
  {
   "cell_type": "code",
   "execution_count": 51,
   "metadata": {},
   "outputs": [],
   "source": [
    "def take_qth_power(x, q, dim=1, with_ones=False):\n",
    "    if with_ones:\n",
    "        powers = torch.arange(0, q+1).repeat(x.shape[dim])\n",
    "        x = x.repeat_interleave(q+1, dim=dim)\n",
    "    else:\n",
    "        powers = torch.arange(1, q+1).repeat(x.shape[dim])\n",
    "        x = x.repeat_interleave(q, dim=dim)\n",
    "    y = torch.pow(x.transpose(dim, -1), powers)\n",
    "    y = y.transpose(dim, -1)\n",
    "    return y"
   ]
  },
  {
   "cell_type": "code",
   "execution_count": 59,
   "metadata": {},
   "outputs": [
    {
     "name": "stdout",
     "output_type": "stream",
     "text": [
      "torch.Size([2, 9, 2, 2])\n"
     ]
    }
   ],
   "source": [
    "import torch\n",
    "\n",
    "# Create input tensor of shape (batch_size, channels, height, width)\n",
    "batch_size = 2\n",
    "channels = 3\n",
    "height = 2\n",
    "width = 2\n",
    "x = 2*torch.ones(batch_size, channels, height, width)\n",
    "q = 2\n",
    "\n",
    "y = take_qth_power(x, q, with_ones=True)\n",
    "print(y.shape)"
   ]
  },
  {
   "cell_type": "code",
   "execution_count": 60,
   "metadata": {},
   "outputs": [
    {
     "data": {
      "text/plain": [
       "tensor([[[[1., 1.],\n",
       "          [1., 1.]],\n",
       "\n",
       "         [[2., 2.],\n",
       "          [2., 2.]],\n",
       "\n",
       "         [[4., 4.],\n",
       "          [4., 4.]],\n",
       "\n",
       "         [[1., 1.],\n",
       "          [1., 1.]],\n",
       "\n",
       "         [[2., 2.],\n",
       "          [2., 2.]],\n",
       "\n",
       "         [[4., 4.],\n",
       "          [4., 4.]],\n",
       "\n",
       "         [[1., 1.],\n",
       "          [1., 1.]],\n",
       "\n",
       "         [[2., 2.],\n",
       "          [2., 2.]],\n",
       "\n",
       "         [[4., 4.],\n",
       "          [4., 4.]]],\n",
       "\n",
       "\n",
       "        [[[1., 1.],\n",
       "          [1., 1.]],\n",
       "\n",
       "         [[2., 2.],\n",
       "          [2., 2.]],\n",
       "\n",
       "         [[4., 4.],\n",
       "          [4., 4.]],\n",
       "\n",
       "         [[1., 1.],\n",
       "          [1., 1.]],\n",
       "\n",
       "         [[2., 2.],\n",
       "          [2., 2.]],\n",
       "\n",
       "         [[4., 4.],\n",
       "          [4., 4.]],\n",
       "\n",
       "         [[1., 1.],\n",
       "          [1., 1.]],\n",
       "\n",
       "         [[2., 2.],\n",
       "          [2., 2.]],\n",
       "\n",
       "         [[4., 4.],\n",
       "          [4., 4.]]]])"
      ]
     },
     "execution_count": 60,
     "metadata": {},
     "output_type": "execute_result"
    }
   ],
   "source": [
    "y"
   ]
  },
  {
   "cell_type": "code",
   "execution_count": null,
   "metadata": {},
   "outputs": [],
   "source": []
  },
  {
   "cell_type": "code",
   "execution_count": null,
   "metadata": {},
   "outputs": [],
   "source": []
  },
  {
   "cell_type": "code",
   "execution_count": null,
   "metadata": {},
   "outputs": [],
   "source": []
  },
  {
   "cell_type": "code",
   "execution_count": null,
   "metadata": {},
   "outputs": [],
   "source": []
  },
  {
   "cell_type": "code",
   "execution_count": null,
   "metadata": {},
   "outputs": [],
   "source": []
  },
  {
   "cell_type": "code",
   "execution_count": null,
   "metadata": {},
   "outputs": [],
   "source": []
  },
  {
   "cell_type": "code",
   "execution_count": null,
   "metadata": {},
   "outputs": [],
   "source": []
  },
  {
   "cell_type": "code",
   "execution_count": null,
   "metadata": {},
   "outputs": [],
   "source": []
  },
  {
   "cell_type": "code",
   "execution_count": null,
   "metadata": {},
   "outputs": [],
   "source": []
  },
  {
   "cell_type": "code",
   "execution_count": null,
   "metadata": {},
   "outputs": [],
   "source": []
  },
  {
   "cell_type": "code",
   "execution_count": null,
   "metadata": {},
   "outputs": [],
   "source": []
  },
  {
   "cell_type": "code",
   "execution_count": null,
   "metadata": {},
   "outputs": [],
   "source": []
  },
  {
   "cell_type": "code",
   "execution_count": null,
   "metadata": {},
   "outputs": [],
   "source": []
  },
  {
   "cell_type": "code",
   "execution_count": null,
   "metadata": {},
   "outputs": [],
   "source": []
  },
  {
   "cell_type": "code",
   "execution_count": null,
   "metadata": {},
   "outputs": [],
   "source": []
  },
  {
   "cell_type": "code",
   "execution_count": null,
   "metadata": {},
   "outputs": [],
   "source": []
  },
  {
   "cell_type": "code",
   "execution_count": null,
   "metadata": {},
   "outputs": [],
   "source": []
  },
  {
   "cell_type": "code",
   "execution_count": null,
   "metadata": {},
   "outputs": [],
   "source": []
  },
  {
   "cell_type": "code",
   "execution_count": null,
   "metadata": {},
   "outputs": [],
   "source": []
  },
  {
   "cell_type": "code",
   "execution_count": null,
   "metadata": {},
   "outputs": [],
   "source": []
  },
  {
   "cell_type": "code",
   "execution_count": null,
   "metadata": {},
   "outputs": [],
   "source": []
  },
  {
   "cell_type": "code",
   "execution_count": null,
   "metadata": {},
   "outputs": [],
   "source": []
  },
  {
   "cell_type": "code",
   "execution_count": null,
   "metadata": {},
   "outputs": [],
   "source": []
  },
  {
   "cell_type": "code",
   "execution_count": null,
   "metadata": {},
   "outputs": [],
   "source": []
  },
  {
   "cell_type": "code",
   "execution_count": 19,
   "metadata": {},
   "outputs": [],
   "source": [
    "class A:\n",
    "    from math import gcd\n",
    "    from sklearn.metrics import roc_auc_score\n",
    "\n",
    "    def do(self, x, y):\n",
    "        print(self.roc_auc_score(y_true=[0,1,1,0], y_score=[0.2,0.3,0.4,0.5]))\n",
    "        return self.gcd(x, y)"
   ]
  },
  {
   "cell_type": "code",
   "execution_count": 20,
   "metadata": {},
   "outputs": [
    {
     "name": "stdout",
     "output_type": "stream",
     "text": [
      "0.5\n"
     ]
    }
   ],
   "source": [
    "from sklearn.metrics import roc_auc_score\n",
    "print(roc_auc_score(y_true=[0,1,1,0], y_score=[0.2,0.3,0.4,0.5]))"
   ]
  },
  {
   "cell_type": "code",
   "execution_count": 21,
   "metadata": {},
   "outputs": [
    {
     "ename": "TypeError",
     "evalue": "roc_auc_score() got multiple values for argument 'y_true'",
     "output_type": "error",
     "traceback": [
      "\u001b[1;31m---------------------------------------------------------------------------\u001b[0m",
      "\u001b[1;31mTypeError\u001b[0m                                 Traceback (most recent call last)",
      "\u001b[1;32m<ipython-input-21-9bf7606ac30c>\u001b[0m in \u001b[0;36m<module>\u001b[1;34m\u001b[0m\n\u001b[1;32m----> 1\u001b[1;33m \u001b[0mA\u001b[0m\u001b[1;33m(\u001b[0m\u001b[1;33m)\u001b[0m\u001b[1;33m.\u001b[0m\u001b[0mdo\u001b[0m\u001b[1;33m(\u001b[0m\u001b[1;36m10\u001b[0m\u001b[1;33m,\u001b[0m \u001b[1;36m5\u001b[0m\u001b[1;33m)\u001b[0m\u001b[1;33m\u001b[0m\u001b[1;33m\u001b[0m\u001b[0m\n\u001b[0m",
      "\u001b[1;32m<ipython-input-19-f1433cbf2ac2>\u001b[0m in \u001b[0;36mdo\u001b[1;34m(self, x, y)\u001b[0m\n\u001b[0;32m      4\u001b[0m \u001b[1;33m\u001b[0m\u001b[0m\n\u001b[0;32m      5\u001b[0m     \u001b[1;32mdef\u001b[0m \u001b[0mdo\u001b[0m\u001b[1;33m(\u001b[0m\u001b[0mself\u001b[0m\u001b[1;33m,\u001b[0m \u001b[0mx\u001b[0m\u001b[1;33m,\u001b[0m \u001b[0my\u001b[0m\u001b[1;33m)\u001b[0m\u001b[1;33m:\u001b[0m\u001b[1;33m\u001b[0m\u001b[1;33m\u001b[0m\u001b[0m\n\u001b[1;32m----> 6\u001b[1;33m         \u001b[0mprint\u001b[0m\u001b[1;33m(\u001b[0m\u001b[0mself\u001b[0m\u001b[1;33m.\u001b[0m\u001b[0mroc_auc_score\u001b[0m\u001b[1;33m(\u001b[0m\u001b[0my_true\u001b[0m\u001b[1;33m=\u001b[0m\u001b[1;33m[\u001b[0m\u001b[1;36m0\u001b[0m\u001b[1;33m,\u001b[0m\u001b[1;36m1\u001b[0m\u001b[1;33m,\u001b[0m\u001b[1;36m1\u001b[0m\u001b[1;33m,\u001b[0m\u001b[1;36m0\u001b[0m\u001b[1;33m]\u001b[0m\u001b[1;33m,\u001b[0m \u001b[0my_score\u001b[0m\u001b[1;33m=\u001b[0m\u001b[1;33m[\u001b[0m\u001b[1;36m0.2\u001b[0m\u001b[1;33m,\u001b[0m\u001b[1;36m0.3\u001b[0m\u001b[1;33m,\u001b[0m\u001b[1;36m0.4\u001b[0m\u001b[1;33m,\u001b[0m\u001b[1;36m0.5\u001b[0m\u001b[1;33m]\u001b[0m\u001b[1;33m)\u001b[0m\u001b[1;33m)\u001b[0m\u001b[1;33m\u001b[0m\u001b[1;33m\u001b[0m\u001b[0m\n\u001b[0m\u001b[0;32m      7\u001b[0m         \u001b[1;32mreturn\u001b[0m \u001b[0mself\u001b[0m\u001b[1;33m.\u001b[0m\u001b[0mgcd\u001b[0m\u001b[1;33m(\u001b[0m\u001b[0mx\u001b[0m\u001b[1;33m,\u001b[0m \u001b[0my\u001b[0m\u001b[1;33m)\u001b[0m\u001b[1;33m\u001b[0m\u001b[1;33m\u001b[0m\u001b[0m\n",
      "\u001b[1;32mc:\\Python\\Python38\\lib\\site-packages\\sklearn\\utils\\validation.py\u001b[0m in \u001b[0;36minner_f\u001b[1;34m(*args, **kwargs)\u001b[0m\n\u001b[0;32m     61\u001b[0m             \u001b[0mextra_args\u001b[0m \u001b[1;33m=\u001b[0m \u001b[0mlen\u001b[0m\u001b[1;33m(\u001b[0m\u001b[0margs\u001b[0m\u001b[1;33m)\u001b[0m \u001b[1;33m-\u001b[0m \u001b[0mlen\u001b[0m\u001b[1;33m(\u001b[0m\u001b[0mall_args\u001b[0m\u001b[1;33m)\u001b[0m\u001b[1;33m\u001b[0m\u001b[1;33m\u001b[0m\u001b[0m\n\u001b[0;32m     62\u001b[0m             \u001b[1;32mif\u001b[0m \u001b[0mextra_args\u001b[0m \u001b[1;33m<=\u001b[0m \u001b[1;36m0\u001b[0m\u001b[1;33m:\u001b[0m\u001b[1;33m\u001b[0m\u001b[1;33m\u001b[0m\u001b[0m\n\u001b[1;32m---> 63\u001b[1;33m                 \u001b[1;32mreturn\u001b[0m \u001b[0mf\u001b[0m\u001b[1;33m(\u001b[0m\u001b[1;33m*\u001b[0m\u001b[0margs\u001b[0m\u001b[1;33m,\u001b[0m \u001b[1;33m**\u001b[0m\u001b[0mkwargs\u001b[0m\u001b[1;33m)\u001b[0m\u001b[1;33m\u001b[0m\u001b[1;33m\u001b[0m\u001b[0m\n\u001b[0m\u001b[0;32m     64\u001b[0m \u001b[1;33m\u001b[0m\u001b[0m\n\u001b[0;32m     65\u001b[0m             \u001b[1;31m# extra_args > 0\u001b[0m\u001b[1;33m\u001b[0m\u001b[1;33m\u001b[0m\u001b[1;33m\u001b[0m\u001b[0m\n",
      "\u001b[1;31mTypeError\u001b[0m: roc_auc_score() got multiple values for argument 'y_true'"
     ]
    }
   ],
   "source": [
    "A().do(10, 5)"
   ]
  },
  {
   "cell_type": "code",
   "execution_count": 8,
   "metadata": {},
   "outputs": [
    {
     "data": {
      "text/plain": [
       "tensor([[[[ 1.5709,  0.4231,  1.1433, -0.0023,  0.5400],\n",
       "          [ 0.8870,  0.6470,  0.1103,  0.9796, -0.3248],\n",
       "          [ 2.2853, -0.2149,  1.3878,  1.9949,  1.3244],\n",
       "          [ 1.4218,  2.0696,  1.9298,  1.3648,  0.1852],\n",
       "          [ 0.9874,  0.1893,  1.3503,  0.1235,  0.6348]]]])"
      ]
     },
     "execution_count": 8,
     "metadata": {},
     "output_type": "execute_result"
    }
   ],
   "source": [
    "x = torch.randn(1, 3, 5, 5)\n",
    "torch.amax(x, dim=1, keepdim=True)"
   ]
  },
  {
   "cell_type": "code",
   "execution_count": 2,
   "metadata": {},
   "outputs": [
    {
     "data": {
      "text/plain": [
       "torch.Size([2, 4, 5, 5])"
      ]
     },
     "execution_count": 2,
     "metadata": {},
     "output_type": "execute_result"
    }
   ],
   "source": [
    "nn.Conv2d(4, 2, 5, padding=2, groups=1).weight.shape"
   ]
  },
  {
   "cell_type": "code",
   "execution_count": 10,
   "metadata": {},
   "outputs": [],
   "source": [
    "sup2d = SuperONN2d(3, 3, 3, padding=2, q=2, bias=False, with_w0=True)"
   ]
  },
  {
   "cell_type": "code",
   "execution_count": 11,
   "metadata": {},
   "outputs": [
    {
     "data": {
      "text/plain": [
       "torch.Size([3, 9, 3, 3])"
      ]
     },
     "execution_count": 11,
     "metadata": {},
     "output_type": "execute_result"
    }
   ],
   "source": [
    "sup2d.weight.shape"
   ]
  },
  {
   "cell_type": "code",
   "execution_count": 29,
   "metadata": {},
   "outputs": [],
   "source": [
    "x = torch.randn(1, 3, 32, 32)"
   ]
  },
  {
   "cell_type": "code",
   "execution_count": 30,
   "metadata": {},
   "outputs": [],
   "source": [
    "sup2d_out = sup2d(x)"
   ]
  },
  {
   "cell_type": "code",
   "execution_count": 31,
   "metadata": {},
   "outputs": [
    {
     "name": "stderr",
     "output_type": "stream",
     "text": [
      "Clipping input data to the valid range for imshow with RGB data ([0..1] for floats or [0..255] for integers).\n"
     ]
    },
    {
     "data": {
      "text/plain": [
       "<matplotlib.image.AxesImage at 0x7f96c0dd88e0>"
      ]
     },
     "execution_count": 31,
     "metadata": {},
     "output_type": "execute_result"
    },
    {
     "data": {
      "image/png": "[encoded data removed]",
      "text/plain": [
       "<Figure size 432x288 with 1 Axes>"
      ]
     },
     "metadata": {
      "needs_background": "light"
     },
     "output_type": "display_data"
    }
   ],
   "source": [
    "plt.imshow(x.squeeze().permute(1,2,0))"
   ]
  },
  {
   "cell_type": "code",
   "execution_count": 32,
   "metadata": {},
   "outputs": [
    {
     "name": "stderr",
     "output_type": "stream",
     "text": [
      "Clipping input data to the valid range for imshow with RGB data ([0..1] for floats or [0..255] for integers).\n"
     ]
    },
    {
     "data": {
      "text/plain": [
       "<matplotlib.image.AxesImage at 0x7f96e1122a00>"
      ]
     },
     "execution_count": 32,
     "metadata": {},
     "output_type": "execute_result"
    },
    {
     "data": {
      "image/png": "[encoded data removed]",
      "text/plain": [
       "<Figure size 432x288 with 1 Axes>"
      ]
     },
     "metadata": {
      "needs_background": "light"
     },
     "output_type": "display_data"
    }
   ],
   "source": [
    "plt.imshow(sup2d_out.detach().squeeze().permute(1,2,0))"
   ]
  },
  {
   "cell_type": "code",
   "execution_count": 16,
   "metadata": {},
   "outputs": [
    {
     "data": {
      "text/plain": [
       "torch.Size([1, 4, 2])"
      ]
     },
     "execution_count": 16,
     "metadata": {},
     "output_type": "execute_result"
    }
   ],
   "source": [
    "SuperONN2d(4, 2, 5, padding=2, q=2).shifts.shape"
   ]
  },
  {
   "cell_type": "code",
   "execution_count": 17,
   "metadata": {},
   "outputs": [
    {
     "data": {
      "text/plain": [
       "torch.Size([1, 1, 2])"
      ]
     },
     "execution_count": 17,
     "metadata": {},
     "output_type": "execute_result"
    }
   ],
   "source": [
    "# All channels are shifted by the same amount (e.g. RGB)\n",
    "SuperONN2d(4, 2, 5, padding=2, q=2, shift_groups=1).shifts.shape"
   ]
  },
  {
   "cell_type": "code",
   "execution_count": 18,
   "metadata": {},
   "outputs": [
    {
     "data": {
      "text/plain": [
       "torch.Size([1, 2, 2])"
      ]
     },
     "execution_count": 18,
     "metadata": {},
     "output_type": "execute_result"
    }
   ],
   "source": [
    "# First half and the second half have different shifts\n",
    "SuperONN2d(4, 2, 5, padding=2, q=2, shift_groups=2).shifts.shape"
   ]
  },
  {
   "cell_type": "code",
   "execution_count": 19,
   "metadata": {},
   "outputs": [
    {
     "data": {
      "text/plain": [
       "torch.Size([1, 4, 2])"
      ]
     },
     "execution_count": 19,
     "metadata": {},
     "output_type": "execute_result"
    }
   ],
   "source": [
    "# By default, shift_groups = in_channels = 4\n",
    "SuperONN2d(4, 2, 5, padding=2, q=2, shift_groups=4).shifts.shape"
   ]
  },
  {
   "cell_type": "code",
   "execution_count": 45,
   "metadata": {},
   "outputs": [
    {
     "data": {
      "text/plain": [
       "torch.Size([18, 1, 5, 5])"
      ]
     },
     "execution_count": 45,
     "metadata": {},
     "output_type": "execute_result"
    }
   ],
   "source": [
    "# Reduces complexity by a factor of 'groups'\n",
    "SuperONN2d(9, 18, 5, padding=2, q=2, groups=18).weight.shape"
   ]
  },
  {
   "cell_type": "code",
   "execution_count": 47,
   "metadata": {},
   "outputs": [
    {
     "data": {
      "text/plain": [
       "torch.Size([1, 3, 2])"
      ]
     },
     "execution_count": 47,
     "metadata": {},
     "output_type": "execute_result"
    }
   ],
   "source": [
    "# Semi-mode BUT 'shift_groups' of neurons have different shifts\n",
    "# AND neurons process channels raised to different powers\n",
    "SuperONN2d(9, 18, 5, padding=2, q=2, groups=18, shift_groups=3).shifts.shape"
   ]
  },
  {
   "cell_type": "code",
   "execution_count": 55,
   "metadata": {},
   "outputs": [
    {
     "data": {
      "text/plain": [
       "torch.Size([6, 9, 2])"
      ]
     },
     "execution_count": 55,
     "metadata": {},
     "output_type": "execute_result"
    }
   ],
   "source": [
    "SuperONN2d(9, 18, 5, padding=2, q=1, full_groups=6).shifts.shape"
   ]
  },
  {
   "cell_type": "code",
   "execution_count": 62,
   "metadata": {},
   "outputs": [
    {
     "data": {
      "text/plain": [
       "torch.Size([18, 27, 5, 5])"
      ]
     },
     "execution_count": 62,
     "metadata": {},
     "output_type": "execute_result"
    }
   ],
   "source": [
    "SuperONN2d(9, 18, 5, padding=2, q=3, full_groups=6, groups=6, shift_groups=3).weight.shape"
   ]
  },
  {
   "cell_type": "code",
   "execution_count": 69,
   "metadata": {},
   "outputs": [
    {
     "data": {
      "text/plain": [
       "torch.Size([24, 2, 5, 5])"
      ]
     },
     "execution_count": 69,
     "metadata": {},
     "output_type": "execute_result"
    }
   ],
   "source": [
    "SuperONN2d(3, 24, 5, padding=2, q=2, full_groups=4, groups=12, shift_groups=3).weight.shape"
   ]
  },
  {
   "cell_type": "code",
   "execution_count": 38,
   "metadata": {},
   "outputs": [
    {
     "ename": "KeyboardInterrupt",
     "evalue": "",
     "output_type": "error",
     "traceback": [
      "\u001b[0;31m---------------------------------------------------------------------------\u001b[0m",
      "\u001b[0;31mKeyboardInterrupt\u001b[0m                         Traceback (most recent call last)",
      "\u001b[0;32m/var/folders/gr/sh4wnjy54kqdvpn0763fg8rnz360lk/T/ipykernel_89288/3105709347.py\u001b[0m in \u001b[0;36m<module>\u001b[0;34m\u001b[0m\n\u001b[1;32m      8\u001b[0m \u001b[0;34m\u001b[0m\u001b[0m\n\u001b[1;32m      9\u001b[0m                         \u001b[0;32mtry\u001b[0m\u001b[0;34m:\u001b[0m\u001b[0;34m\u001b[0m\u001b[0;34m\u001b[0m\u001b[0m\n\u001b[0;32m---> 10\u001b[0;31m                             sonn = SuperONN2d(\n\u001b[0m\u001b[1;32m     11\u001b[0m                                 \u001b[0min_c\u001b[0m\u001b[0;34m,\u001b[0m\u001b[0;34m\u001b[0m\u001b[0;34m\u001b[0m\u001b[0m\n\u001b[1;32m     12\u001b[0m                                 \u001b[0mout_c\u001b[0m\u001b[0;34m,\u001b[0m\u001b[0;34m\u001b[0m\u001b[0;34m\u001b[0m\u001b[0m\n",
      "\u001b[0;32m~/Documents/PythonLibraries/deeplearning/sonn_library/sonn/superonn_final.py\u001b[0m in \u001b[0;36m__init__\u001b[0;34m(self, in_channels, out_channels, kernel_size, q, bias, padding, stride, dilation, groups, shift_groups, full_groups, learnable, max_shift, rounded_shifts, split_iterations, fill_mode, shift_init, weight_init, dtype, verbose)\u001b[0m\n\u001b[1;32m    114\u001b[0m         \u001b[0mverbose\u001b[0m\u001b[0;34m:\u001b[0m \u001b[0mbool\u001b[0m \u001b[0;34m=\u001b[0m \u001b[0;32mFalse\u001b[0m\u001b[0;34m\u001b[0m\u001b[0;34m\u001b[0m\u001b[0m\n\u001b[1;32m    115\u001b[0m     ) -> None:\n\u001b[0;32m--> 116\u001b[0;31m         \u001b[0msuper\u001b[0m\u001b[0;34m(\u001b[0m\u001b[0;34m)\u001b[0m\u001b[0;34m.\u001b[0m\u001b[0m__init__\u001b[0m\u001b[0;34m(\u001b[0m\u001b[0;34m)\u001b[0m\u001b[0;34m\u001b[0m\u001b[0;34m\u001b[0m\u001b[0m\n\u001b[0m\u001b[1;32m    117\u001b[0m \u001b[0;34m\u001b[0m\u001b[0m\n\u001b[1;32m    118\u001b[0m         \u001b[0;31m# Ensures that a neuron does not process channels belonging to different full groups.\u001b[0m\u001b[0;34m\u001b[0m\u001b[0;34m\u001b[0m\u001b[0m\n",
      "\u001b[0;32m/Library/Frameworks/Python.framework/Versions/3.9/lib/python3.9/site-packages/torch/nn/modules/module.py\u001b[0m in \u001b[0;36m__init__\u001b[0;34m(self)\u001b[0m\n\u001b[1;32m    261\u001b[0m         \u001b[0mself\u001b[0m\u001b[0;34m.\u001b[0m\u001b[0m_is_full_backward_hook\u001b[0m \u001b[0;34m=\u001b[0m \u001b[0;32mNone\u001b[0m\u001b[0;34m\u001b[0m\u001b[0;34m\u001b[0m\u001b[0m\n\u001b[1;32m    262\u001b[0m         \u001b[0mself\u001b[0m\u001b[0;34m.\u001b[0m\u001b[0m_forward_hooks\u001b[0m \u001b[0;34m=\u001b[0m \u001b[0mOrderedDict\u001b[0m\u001b[0;34m(\u001b[0m\u001b[0;34m)\u001b[0m\u001b[0;34m\u001b[0m\u001b[0;34m\u001b[0m\u001b[0m\n\u001b[0;32m--> 263\u001b[0;31m         \u001b[0mself\u001b[0m\u001b[0;34m.\u001b[0m\u001b[0m_forward_pre_hooks\u001b[0m \u001b[0;34m=\u001b[0m \u001b[0mOrderedDict\u001b[0m\u001b[0;34m(\u001b[0m\u001b[0;34m)\u001b[0m\u001b[0;34m\u001b[0m\u001b[0;34m\u001b[0m\u001b[0m\n\u001b[0m\u001b[1;32m    264\u001b[0m         \u001b[0mself\u001b[0m\u001b[0;34m.\u001b[0m\u001b[0m_state_dict_hooks\u001b[0m \u001b[0;34m=\u001b[0m \u001b[0mOrderedDict\u001b[0m\u001b[0;34m(\u001b[0m\u001b[0;34m)\u001b[0m\u001b[0;34m\u001b[0m\u001b[0;34m\u001b[0m\u001b[0m\n\u001b[1;32m    265\u001b[0m         \u001b[0mself\u001b[0m\u001b[0;34m.\u001b[0m\u001b[0m_load_state_dict_pre_hooks\u001b[0m \u001b[0;34m=\u001b[0m \u001b[0mOrderedDict\u001b[0m\u001b[0;34m(\u001b[0m\u001b[0;34m)\u001b[0m\u001b[0;34m\u001b[0m\u001b[0;34m\u001b[0m\u001b[0m\n",
      "\u001b[0;31mKeyboardInterrupt\u001b[0m: "
     ]
    }
   ],
   "source": [
    "for in_c in [3, 8, 16, 64]:\n",
    "    for out_c in [3, 8, 16, 64]:\n",
    "        for q in [2, 3, 4, 5, 6, 7]:\n",
    "            for full_groups in range(out_c):\n",
    "                for groups in range(min(out_c, in_c * q * full_groups)):\n",
    "                    for shift_groups in range(in_c):\n",
    "                        x = torch.randn(1, in_c, 5, 5)\n",
    "\n",
    "                        try:\n",
    "                            sonn = SuperONN2d(\n",
    "                                in_c, \n",
    "                                out_c,\n",
    "                                kernel_size=3,\n",
    "                                padding=1,\n",
    "                                q=q,\n",
    "                                full_groups=full_groups,\n",
    "                                groups=groups,\n",
    "                                shift_groups=shift_groups,\n",
    "                                max_shift=10,\n",
    "                                learnable=True\n",
    "                            )\n",
    "                            conv = nn.Conv2d(in_c, out_c, kernel_size=3, padding=1, groups=groups)\n",
    "                        except Exception as e:\n",
    "                            continue\n",
    "\n",
    "                        try:\n",
    "                            outconv = conv(x)\n",
    "                            outsonn = sonn(x)\n",
    "                        except:\n",
    "                            print(f\"in_c={in_c}, out_c={out_c}, q={q}, full_groups={full_groups}, groups={groups}, shift_groups={shift_groups}\")\n",
    "                            raise Exception(\"Passing through conv/sonn failed\")\n",
    "                        \n",
    "                        if not torch.equal(torch.tensor(outconv.shape), torch.tensor(outsonn.shape)):\n",
    "                            raise Exception(\"Shapes don't match\")\n",
    "                        \n",
    "                        sonnw = torch.tensor(sonn.weight.shape)\n",
    "                        convw = torch.tensor(conv.weight.shape)\n",
    "\n",
    "                        sonnw[1] = sonnw[1] * (sonn.groups // sonn.full_groups) // sonn.q // groups\n",
    "\n",
    "                        if not torch.equal(sonnw, convw):\n",
    "                            print(f\"sonnw={sonnw}, convw={convw}\")\n",
    "                            print(f\"in_c={in_c}, out_c={out_c}, q={q}, full_groups={full_groups}, groups={groups}, shift_groups={shift_groups}\")\n",
    "                            raise Exception(\"Weights don't match\")"
   ]
  },
  {
   "cell_type": "code",
   "execution_count": 71,
   "metadata": {},
   "outputs": [],
   "source": [
    "def do_runtime_test(models, x, device, repeats):\n",
    "    assert device != \"cuda\" or torch.cuda.is_available(), \"CUDA not available\"\n",
    "\n",
    "    models = {k: v.to(device) for k, v in models.items()}\n",
    "    x = x.to(device)\n",
    "\n",
    "    # warmup\n",
    "    for model in models:\n",
    "        for _ in range(10):\n",
    "            y = models[model](x)\n",
    "        torch.cuda.synchronize()\n",
    "\n",
    "    runtimes = {}\n",
    "    for model in models:\n",
    "        start = perf_counter()\n",
    "        for _ in range(repeats):\n",
    "            y = models[model](x)\n",
    "        torch.cuda.synchronize()\n",
    "        end = perf_counter()\n",
    "        runtimes[model] = end - start\n",
    "\n",
    "    return runtimes"
   ]
  },
  {
   "cell_type": "code",
   "execution_count": 72,
   "metadata": {},
   "outputs": [],
   "source": [
    "device = \"cuda\" if torch.cuda.is_available() else \"cpu\"\n",
    "x = torch.randn(1, 64, 25, 25).to(device)"
   ]
  },
  {
   "cell_type": "code",
   "execution_count": 73,
   "metadata": {},
   "outputs": [],
   "source": [
    "models = {\n",
    "    \"sonn\": SuperONN2d(64, 64, q=3, kernel_size=3, padding=1, groups=1, max_shift=10, learnable=True).to(device),\n",
    "    \"sonn_dw\": SuperONN2d(64, 64, q=3, kernel_size=3, padding=1, groups=64, full_groups=1, max_shift=10, learnable=True).to(device),\n",
    "    \"sonn_full\": SuperONN2d(64, 64, q=3, kernel_size=3, padding=1, full_groups=8, groups=8, max_shift=10, learnable=True).to(device),\n",
    "    \"sonn_full_dw\": SuperONN2d(64, 64, q=3, kernel_size=3, padding=1, full_groups=8, groups=64, max_shift=10, learnable=True).to(device),\n",
    "}"
   ]
  },
  {
   "cell_type": "code",
   "execution_count": 74,
   "metadata": {},
   "outputs": [],
   "source": [
    "params = {\n",
    "    key: sum(list(map(lambda x: x.numel(), model.parameters()))) for key, model in models.items()\n",
    "}"
   ]
  },
  {
   "cell_type": "code",
   "execution_count": 75,
   "metadata": {},
   "outputs": [],
   "source": [
    "gpu_runtimes = do_runtime_test(models, x, device, repeats=1000)\n",
    "cpu_runtimes = do_runtime_test(models, x, \"cpu\", repeats=1000)"
   ]
  },
  {
   "cell_type": "code",
   "execution_count": 76,
   "metadata": {},
   "outputs": [
    {
     "data": {
      "text/plain": [
       "{'sonn': 1.3564484999999422,\n",
       " 'sonn_dw': 1.2391488999999183,\n",
       " 'sonn_full': 2.2865383999999267,\n",
       " 'sonn_full_dw': 1.3228245000000243}"
      ]
     },
     "execution_count": 76,
     "metadata": {},
     "output_type": "execute_result"
    }
   ],
   "source": [
    "gpu_runtimes"
   ]
  },
  {
   "cell_type": "code",
   "execution_count": 77,
   "metadata": {},
   "outputs": [
    {
     "data": {
      "text/plain": [
       "{'sonn': 1.4505371000000196,\n",
       " 'sonn_dw': 1.4037164999999732,\n",
       " 'sonn_full': 7.415974100000085,\n",
       " 'sonn_full_dw': 8.97052860000008}"
      ]
     },
     "execution_count": 77,
     "metadata": {},
     "output_type": "execute_result"
    }
   ],
   "source": [
    "cpu_runtimes"
   ]
  },
  {
   "cell_type": "code",
   "execution_count": 78,
   "metadata": {},
   "outputs": [],
   "source": [
    "data = {model: [params[model], gpu_runtimes[model], cpu_runtimes[model], models[model].defaults] for model in models}"
   ]
  },
  {
   "cell_type": "code",
   "execution_count": 79,
   "metadata": {},
   "outputs": [],
   "source": [
    "pd.DataFrame(data, index=[\"params\", \"gpu\", \"cpu\", \"params\"]).T.to_csv(\"superonn_final_runtimes.csv\")"
   ]
  },
  {
   "cell_type": "code",
   "execution_count": 21,
   "metadata": {},
   "outputs": [
    {
     "name": "stdout",
     "output_type": "stream",
     "text": [
      "tensor([[0, 0],\n",
      "        [1, 1],\n",
      "        [2, 2]])\n",
      "tensor([[0, 0],\n",
      "        [0, 0],\n",
      "        [0, 0],\n",
      "        [0, 0],\n",
      "        [1, 1],\n",
      "        [1, 1],\n",
      "        [1, 1],\n",
      "        [1, 1],\n",
      "        [2, 2],\n",
      "        [2, 2],\n",
      "        [2, 2],\n",
      "        [2, 2]])\n"
     ]
    }
   ],
   "source": [
    "# Shift repeat test\n",
    "# shift_groups = 3, in_channels = 12\n",
    "shifts = torch.tensor([[0, 1, 2], [0, 1, 2]]).T\n",
    "new_shifts = torch.repeat_interleave(shifts, 12 // 3, 0)\n",
    "\n",
    "assert shifts.shape == (3, 2)\n",
    "assert new_shifts.shape == (12, 2)\n",
    "assert torch.allclose(shifts[0, :], new_shifts[0:4, :])\n",
    "print(shifts)\n",
    "print(new_shifts)"
   ]
  },
  {
   "cell_type": "code",
   "execution_count": 65,
   "metadata": {},
   "outputs": [
    {
     "name": "stdout",
     "output_type": "stream",
     "text": [
      "tensor([[[[1, 1],\n",
      "          [1, 1]],\n",
      "\n",
      "         [[2, 2],\n",
      "          [2, 2]]]]) torch.Size([1, 2, 2, 2])\n",
      "tensor([[[[1, 1],\n",
      "          [1, 1]],\n",
      "\n",
      "         [[2, 2],\n",
      "          [2, 2]],\n",
      "\n",
      "         [[1, 1],\n",
      "          [1, 1]],\n",
      "\n",
      "         [[2, 2],\n",
      "          [2, 2]],\n",
      "\n",
      "         [[1, 1],\n",
      "          [1, 1]],\n",
      "\n",
      "         [[2, 2],\n",
      "          [2, 2]]]]) torch.Size([1, 6, 2, 2])\n",
      "tensor([[[[[1, 1],\n",
      "           [1, 1]],\n",
      "\n",
      "          [[2, 2],\n",
      "           [2, 2]]],\n",
      "\n",
      "\n",
      "         [[[1, 1],\n",
      "           [1, 1]],\n",
      "\n",
      "          [[2, 2],\n",
      "           [2, 2]]],\n",
      "\n",
      "\n",
      "         [[[1, 1],\n",
      "           [1, 1]],\n",
      "\n",
      "          [[2, 2],\n",
      "           [2, 2]]]]])\n"
     ]
    }
   ],
   "source": [
    "# Reshape test\n",
    "n = 1\n",
    "in_c = 2\n",
    "out_c = 3\n",
    "h = 2\n",
    "w = 2\n",
    "\n",
    "# A 2x2 image with 2 channels, one of them is all 1s and the other is all 2s.\n",
    "x = torch.tensor([1,1,1,1,2,2,2,2]).reshape(n, in_c, h, w)\n",
    "print(x, x.shape)\n",
    "\n",
    "# Concat the channels out_c times.\n",
    "y = torch.cat([x for _ in range(out_c)], 1)\n",
    "print(y, y.shape)\n",
    "\n",
    "# Now, should we reshape it to (n, in_c, out_c, h, w) or (n, out_c, in_c, h, w)?\n",
    "# (n, out_c, in_c, h, w) is the correct shape, as we have (n x out_c) images with in_c channels, not (n x in_c) images with out_c channels.\n",
    "z = y.reshape(n, out_c, in_c, h, w)\n",
    "print(z)"
   ]
  },
  {
   "cell_type": "code",
   "execution_count": 76,
   "metadata": {},
   "outputs": [
    {
     "name": "stdout",
     "output_type": "stream",
     "text": [
      "torch.Size([3, 2, 2])\n",
      "torch.Size([3, 4, 2])\n",
      "tensor([[0, 0],\n",
      "        [0, 0],\n",
      "        [1, 1],\n",
      "        [1, 1],\n",
      "        [2, 2],\n",
      "        [2, 2]])\n",
      "tensor([[0, 0],\n",
      "        [0, 0],\n",
      "        [0, 0],\n",
      "        [0, 0],\n",
      "        [1, 1],\n",
      "        [1, 1],\n",
      "        [1, 1],\n",
      "        [1, 1],\n",
      "        [2, 2],\n",
      "        [2, 2],\n",
      "        [2, 2],\n",
      "        [2, 2]])\n"
     ]
    }
   ],
   "source": [
    "# Shift reshape test\n",
    "in_channels = 4\n",
    "full_groups = 3\n",
    "shift_groups = 2\n",
    "shifts = torch.tensor([[[0, 1, 2], [0, 1, 2]], [[0, 1, 2], [0, 1, 2]]]).T\n",
    "print(shifts.shape)\n",
    "\n",
    "new_shifts = torch.repeat_interleave(shifts, in_channels // shift_groups, 1)\n",
    "print(new_shifts.shape)\n",
    "\n",
    "print(shifts.reshape(full_groups * shift_groups, 2))\n",
    "print(new_shifts.reshape(full_groups * in_channels, 2))"
   ]
  },
  {
   "cell_type": "code",
   "execution_count": 32,
   "metadata": {},
   "outputs": [
    {
     "data": {
      "text/plain": [
       "tensor([[[[ 0,  1,  2,  3],\n",
       "          [ 4,  5,  6,  7],\n",
       "          [ 8,  9, 10, 11],\n",
       "          [12, 13, 14, 15]],\n",
       "\n",
       "         [[16, 17, 18, 19],\n",
       "          [20, 21, 22, 23],\n",
       "          [24, 25, 26, 27],\n",
       "          [28, 29, 30, 31]],\n",
       "\n",
       "         [[32, 33, 34, 35],\n",
       "          [36, 37, 38, 39],\n",
       "          [40, 41, 42, 43],\n",
       "          [44, 45, 46, 47]],\n",
       "\n",
       "         [[ 0,  1,  2,  3],\n",
       "          [ 4,  5,  6,  7],\n",
       "          [ 8,  9, 10, 11],\n",
       "          [12, 13, 14, 15]],\n",
       "\n",
       "         [[16, 17, 18, 19],\n",
       "          [20, 21, 22, 23],\n",
       "          [24, 25, 26, 27],\n",
       "          [28, 29, 30, 31]],\n",
       "\n",
       "         [[32, 33, 34, 35],\n",
       "          [36, 37, 38, 39],\n",
       "          [40, 41, 42, 43],\n",
       "          [44, 45, 46, 47]],\n",
       "\n",
       "         [[ 0,  1,  2,  3],\n",
       "          [ 4,  5,  6,  7],\n",
       "          [ 8,  9, 10, 11],\n",
       "          [12, 13, 14, 15]],\n",
       "\n",
       "         [[16, 17, 18, 19],\n",
       "          [20, 21, 22, 23],\n",
       "          [24, 25, 26, 27],\n",
       "          [28, 29, 30, 31]],\n",
       "\n",
       "         [[32, 33, 34, 35],\n",
       "          [36, 37, 38, 39],\n",
       "          [40, 41, 42, 43],\n",
       "          [44, 45, 46, 47]],\n",
       "\n",
       "         [[ 0,  1,  2,  3],\n",
       "          [ 4,  5,  6,  7],\n",
       "          [ 8,  9, 10, 11],\n",
       "          [12, 13, 14, 15]],\n",
       "\n",
       "         [[16, 17, 18, 19],\n",
       "          [20, 21, 22, 23],\n",
       "          [24, 25, 26, 27],\n",
       "          [28, 29, 30, 31]],\n",
       "\n",
       "         [[32, 33, 34, 35],\n",
       "          [36, 37, 38, 39],\n",
       "          [40, 41, 42, 43],\n",
       "          [44, 45, 46, 47]]],\n",
       "\n",
       "\n",
       "        [[[48, 49, 50, 51],\n",
       "          [52, 53, 54, 55],\n",
       "          [56, 57, 58, 59],\n",
       "          [60, 61, 62, 63]],\n",
       "\n",
       "         [[64, 65, 66, 67],\n",
       "          [68, 69, 70, 71],\n",
       "          [72, 73, 74, 75],\n",
       "          [76, 77, 78, 79]],\n",
       "\n",
       "         [[80, 81, 82, 83],\n",
       "          [84, 85, 86, 87],\n",
       "          [88, 89, 90, 91],\n",
       "          [92, 93, 94, 95]],\n",
       "\n",
       "         [[48, 49, 50, 51],\n",
       "          [52, 53, 54, 55],\n",
       "          [56, 57, 58, 59],\n",
       "          [60, 61, 62, 63]],\n",
       "\n",
       "         [[64, 65, 66, 67],\n",
       "          [68, 69, 70, 71],\n",
       "          [72, 73, 74, 75],\n",
       "          [76, 77, 78, 79]],\n",
       "\n",
       "         [[80, 81, 82, 83],\n",
       "          [84, 85, 86, 87],\n",
       "          [88, 89, 90, 91],\n",
       "          [92, 93, 94, 95]],\n",
       "\n",
       "         [[48, 49, 50, 51],\n",
       "          [52, 53, 54, 55],\n",
       "          [56, 57, 58, 59],\n",
       "          [60, 61, 62, 63]],\n",
       "\n",
       "         [[64, 65, 66, 67],\n",
       "          [68, 69, 70, 71],\n",
       "          [72, 73, 74, 75],\n",
       "          [76, 77, 78, 79]],\n",
       "\n",
       "         [[80, 81, 82, 83],\n",
       "          [84, 85, 86, 87],\n",
       "          [88, 89, 90, 91],\n",
       "          [92, 93, 94, 95]],\n",
       "\n",
       "         [[48, 49, 50, 51],\n",
       "          [52, 53, 54, 55],\n",
       "          [56, 57, 58, 59],\n",
       "          [60, 61, 62, 63]],\n",
       "\n",
       "         [[64, 65, 66, 67],\n",
       "          [68, 69, 70, 71],\n",
       "          [72, 73, 74, 75],\n",
       "          [76, 77, 78, 79]],\n",
       "\n",
       "         [[80, 81, 82, 83],\n",
       "          [84, 85, 86, 87],\n",
       "          [88, 89, 90, 91],\n",
       "          [92, 93, 94, 95]]]])"
      ]
     },
     "execution_count": 32,
     "metadata": {},
     "output_type": "execute_result"
    }
   ],
   "source": [
    "torch.cat(x.tile(4).chunk(4, -1), 1)"
   ]
  },
  {
   "cell_type": "code",
   "execution_count": null,
   "metadata": {},
   "outputs": [],
   "source": []
  }
 ],
 "metadata": {
  "kernelspec": {
   "display_name": "Python 3",
   "language": "python",
   "name": "python3"
  },
  "language_info": {
   "codemirror_mode": {
    "name": "ipython",
    "version": 3
   },
   "file_extension": ".py",
   "mimetype": "text/x-python",
   "name": "python",
   "nbconvert_exporter": "python",
   "pygments_lexer": "ipython3",
   "version": "3.8.10"
  },
  "orig_nbformat": 4,
  "vscode": {
   "interpreter": {
    "hash": "aee8b7b246df8f9039afb4144a1f6fd8d2ca17a180786b69acc140d282b71a49"
   }
  }
 },
 "nbformat": 4,
 "nbformat_minor": 2
}
