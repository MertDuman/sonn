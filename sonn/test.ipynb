{
 "cells": [
  {
   "cell_type": "code",
   "execution_count": 1,
   "metadata": {},
   "outputs": [],
   "source": [
    "import torch\n",
    "import torch.nn as nn\n",
    "\n",
    "from superonn_final import SuperONN2d"
   ]
  },
  {
   "cell_type": "code",
   "execution_count": 38,
   "metadata": {},
   "outputs": [
    {
     "ename": "KeyboardInterrupt",
     "evalue": "",
     "output_type": "error",
     "traceback": [
      "\u001b[0;31m---------------------------------------------------------------------------\u001b[0m",
      "\u001b[0;31mKeyboardInterrupt\u001b[0m                         Traceback (most recent call last)",
      "\u001b[0;32m/var/folders/gr/sh4wnjy54kqdvpn0763fg8rnz360lk/T/ipykernel_89288/3105709347.py\u001b[0m in \u001b[0;36m<module>\u001b[0;34m\u001b[0m\n\u001b[1;32m      8\u001b[0m \u001b[0;34m\u001b[0m\u001b[0m\n\u001b[1;32m      9\u001b[0m                         \u001b[0;32mtry\u001b[0m\u001b[0;34m:\u001b[0m\u001b[0;34m\u001b[0m\u001b[0;34m\u001b[0m\u001b[0m\n\u001b[0;32m---> 10\u001b[0;31m                             sonn = SuperONN2d(\n\u001b[0m\u001b[1;32m     11\u001b[0m                                 \u001b[0min_c\u001b[0m\u001b[0;34m,\u001b[0m\u001b[0;34m\u001b[0m\u001b[0;34m\u001b[0m\u001b[0m\n\u001b[1;32m     12\u001b[0m                                 \u001b[0mout_c\u001b[0m\u001b[0;34m,\u001b[0m\u001b[0;34m\u001b[0m\u001b[0;34m\u001b[0m\u001b[0m\n",
      "\u001b[0;32m~/Documents/PythonLibraries/deeplearning/sonn_library/sonn/superonn_final.py\u001b[0m in \u001b[0;36m__init__\u001b[0;34m(self, in_channels, out_channels, kernel_size, q, bias, padding, stride, dilation, groups, shift_groups, full_groups, learnable, max_shift, rounded_shifts, split_iterations, fill_mode, shift_init, weight_init, dtype, verbose)\u001b[0m\n\u001b[1;32m    114\u001b[0m         \u001b[0mverbose\u001b[0m\u001b[0;34m:\u001b[0m \u001b[0mbool\u001b[0m \u001b[0;34m=\u001b[0m \u001b[0;32mFalse\u001b[0m\u001b[0;34m\u001b[0m\u001b[0;34m\u001b[0m\u001b[0m\n\u001b[1;32m    115\u001b[0m     ) -> None:\n\u001b[0;32m--> 116\u001b[0;31m         \u001b[0msuper\u001b[0m\u001b[0;34m(\u001b[0m\u001b[0;34m)\u001b[0m\u001b[0;34m.\u001b[0m\u001b[0m__init__\u001b[0m\u001b[0;34m(\u001b[0m\u001b[0;34m)\u001b[0m\u001b[0;34m\u001b[0m\u001b[0;34m\u001b[0m\u001b[0m\n\u001b[0m\u001b[1;32m    117\u001b[0m \u001b[0;34m\u001b[0m\u001b[0m\n\u001b[1;32m    118\u001b[0m         \u001b[0;31m# Ensures that a neuron does not process channels belonging to different full groups.\u001b[0m\u001b[0;34m\u001b[0m\u001b[0;34m\u001b[0m\u001b[0m\n",
      "\u001b[0;32m/Library/Frameworks/Python.framework/Versions/3.9/lib/python3.9/site-packages/torch/nn/modules/module.py\u001b[0m in \u001b[0;36m__init__\u001b[0;34m(self)\u001b[0m\n\u001b[1;32m    261\u001b[0m         \u001b[0mself\u001b[0m\u001b[0;34m.\u001b[0m\u001b[0m_is_full_backward_hook\u001b[0m \u001b[0;34m=\u001b[0m \u001b[0;32mNone\u001b[0m\u001b[0;34m\u001b[0m\u001b[0;34m\u001b[0m\u001b[0m\n\u001b[1;32m    262\u001b[0m         \u001b[0mself\u001b[0m\u001b[0;34m.\u001b[0m\u001b[0m_forward_hooks\u001b[0m \u001b[0;34m=\u001b[0m \u001b[0mOrderedDict\u001b[0m\u001b[0;34m(\u001b[0m\u001b[0;34m)\u001b[0m\u001b[0;34m\u001b[0m\u001b[0;34m\u001b[0m\u001b[0m\n\u001b[0;32m--> 263\u001b[0;31m         \u001b[0mself\u001b[0m\u001b[0;34m.\u001b[0m\u001b[0m_forward_pre_hooks\u001b[0m \u001b[0;34m=\u001b[0m \u001b[0mOrderedDict\u001b[0m\u001b[0;34m(\u001b[0m\u001b[0;34m)\u001b[0m\u001b[0;34m\u001b[0m\u001b[0;34m\u001b[0m\u001b[0m\n\u001b[0m\u001b[1;32m    264\u001b[0m         \u001b[0mself\u001b[0m\u001b[0;34m.\u001b[0m\u001b[0m_state_dict_hooks\u001b[0m \u001b[0;34m=\u001b[0m \u001b[0mOrderedDict\u001b[0m\u001b[0;34m(\u001b[0m\u001b[0;34m)\u001b[0m\u001b[0;34m\u001b[0m\u001b[0;34m\u001b[0m\u001b[0m\n\u001b[1;32m    265\u001b[0m         \u001b[0mself\u001b[0m\u001b[0;34m.\u001b[0m\u001b[0m_load_state_dict_pre_hooks\u001b[0m \u001b[0;34m=\u001b[0m \u001b[0mOrderedDict\u001b[0m\u001b[0;34m(\u001b[0m\u001b[0;34m)\u001b[0m\u001b[0;34m\u001b[0m\u001b[0;34m\u001b[0m\u001b[0m\n",
      "\u001b[0;31mKeyboardInterrupt\u001b[0m: "
     ]
    }
   ],
   "source": [
    "for in_c in [3, 8, 16, 64]:\n",
    "    for out_c in [3, 8, 16, 64]:\n",
    "        for q in [2, 3, 4, 5, 6, 7]:\n",
    "            for full_groups in range(out_c):\n",
    "                for groups in range(min(out_c, in_c * q * full_groups)):\n",
    "                    for shift_groups in range(in_c):\n",
    "                        x = torch.randn(1, in_c, 5, 5)\n",
    "\n",
    "                        try:\n",
    "                            sonn = SuperONN2d(\n",
    "                                in_c, \n",
    "                                out_c,\n",
    "                                kernel_size=3,\n",
    "                                padding=1,\n",
    "                                q=q,\n",
    "                                full_groups=full_groups,\n",
    "                                groups=groups,\n",
    "                                shift_groups=shift_groups,\n",
    "                                max_shift=10,\n",
    "                                learnable=True\n",
    "                            )\n",
    "                            conv = nn.Conv2d(in_c, out_c, kernel_size=3, padding=1, groups=groups)\n",
    "                        except Exception as e:\n",
    "                            continue\n",
    "\n",
    "                        try:\n",
    "                            outconv = conv(x)\n",
    "                            outsonn = sonn(x)\n",
    "                        except:\n",
    "                            print(f\"in_c={in_c}, out_c={out_c}, q={q}, full_groups={full_groups}, groups={groups}, shift_groups={shift_groups}\")\n",
    "                            raise Exception(\"Passing through conv/sonn failed\")\n",
    "                        \n",
    "                        if not torch.equal(torch.tensor(outconv.shape), torch.tensor(outsonn.shape)):\n",
    "                            raise Exception(\"Shapes don't match\")\n",
    "                        \n",
    "                        sonnw = torch.tensor(sonn.weight.shape)\n",
    "                        convw = torch.tensor(conv.weight.shape)\n",
    "\n",
    "                        sonnw[1] = sonnw[1] * (sonn.groups // sonn.full_groups) // sonn.q // groups\n",
    "\n",
    "                        if not torch.equal(sonnw, convw):\n",
    "                            print(f\"sonnw={sonnw}, convw={convw}\")\n",
    "                            print(f\"in_c={in_c}, out_c={out_c}, q={q}, full_groups={full_groups}, groups={groups}, shift_groups={shift_groups}\")\n",
    "                            raise Exception(\"Weights don't match\")"
   ]
  },
  {
   "cell_type": "code",
   "execution_count": 53,
   "metadata": {},
   "outputs": [],
   "source": [
    "sonn = SuperONN2d(3, 18*3, q=3, kernel_size=3, padding=1, groups=9, full_groups=1, max_shift=10, learnable=True)"
   ]
  },
  {
   "cell_type": "code",
   "execution_count": 54,
   "metadata": {},
   "outputs": [
    {
     "name": "stdout",
     "output_type": "stream",
     "text": [
      "453 µs ± 13.1 µs per loop (mean ± std. dev. of 7 runs, 1000 loops each)\n"
     ]
    }
   ],
   "source": [
    "%%timeit\n",
    "sonn(torch.randn(1, 3, 25, 25))"
   ]
  },
  {
   "cell_type": "code",
   "execution_count": 52,
   "metadata": {},
   "outputs": [
    {
     "name": "stdout",
     "output_type": "stream",
     "text": [
      "733 µs ± 285 µs per loop (mean ± std. dev. of 7 runs, 1000 loops each)\n"
     ]
    }
   ],
   "source": [
    "%%timeit\n",
    "sonn(torch.randn(1, 3, 25, 25))"
   ]
  },
  {
   "cell_type": "code",
   "execution_count": 50,
   "metadata": {},
   "outputs": [
    {
     "name": "stdout",
     "output_type": "stream",
     "text": [
      "452 µs ± 2.37 µs per loop (mean ± std. dev. of 7 runs, 1000 loops each)\n"
     ]
    }
   ],
   "source": [
    "%%timeit\n",
    "sonn(torch.randn(1, 3, 25, 25))"
   ]
  },
  {
   "cell_type": "code",
   "execution_count": 47,
   "metadata": {},
   "outputs": [
    {
     "name": "stdout",
     "output_type": "stream",
     "text": [
      "2.25 ms ± 721 µs per loop (mean ± std. dev. of 7 runs, 1000 loops each)\n"
     ]
    }
   ],
   "source": [
    "%%timeit\n",
    "sonn(torch.randn(1, 3, 25, 25))"
   ]
  },
  {
   "cell_type": "code",
   "execution_count": 45,
   "metadata": {},
   "outputs": [
    {
     "name": "stdout",
     "output_type": "stream",
     "text": [
      "1.74 ms ± 31.9 µs per loop (mean ± std. dev. of 7 runs, 1000 loops each)\n"
     ]
    }
   ],
   "source": [
    "%%timeit\n",
    "sonn(torch.randn(1, 3, 25, 25))"
   ]
  },
  {
   "cell_type": "code",
   "execution_count": 27,
   "metadata": {},
   "outputs": [
    {
     "data": {
      "text/plain": [
       "(torch.Size([16, 6, 3, 3]), torch.Size([16, 3, 2]))"
      ]
     },
     "execution_count": 27,
     "metadata": {},
     "output_type": "execute_result"
    }
   ],
   "source": [
    "sonn.weight.shape, sonn.shifts.shape"
   ]
  },
  {
   "cell_type": "code",
   "execution_count": 58,
   "metadata": {},
   "outputs": [
    {
     "data": {
      "text/plain": [
       "torch.Size([18, 4, 4])"
      ]
     },
     "execution_count": 58,
     "metadata": {},
     "output_type": "execute_result"
    }
   ],
   "source": [
    "torch.repeat_interleave(x, 3, 0).shape"
   ]
  },
  {
   "cell_type": "code",
   "execution_count": 21,
   "metadata": {},
   "outputs": [
    {
     "name": "stdout",
     "output_type": "stream",
     "text": [
      "tensor([[0, 0],\n",
      "        [1, 1],\n",
      "        [2, 2]])\n",
      "tensor([[0, 0],\n",
      "        [0, 0],\n",
      "        [0, 0],\n",
      "        [0, 0],\n",
      "        [1, 1],\n",
      "        [1, 1],\n",
      "        [1, 1],\n",
      "        [1, 1],\n",
      "        [2, 2],\n",
      "        [2, 2],\n",
      "        [2, 2],\n",
      "        [2, 2]])\n"
     ]
    }
   ],
   "source": [
    "# Shift repeat test\n",
    "# shift_groups = 3, in_channels = 12\n",
    "shifts = torch.tensor([[0, 1, 2], [0, 1, 2]]).T\n",
    "new_shifts = torch.repeat_interleave(shifts, 12 // 3, 0)\n",
    "\n",
    "assert shifts.shape == (3, 2)\n",
    "assert new_shifts.shape == (12, 2)\n",
    "assert torch.allclose(shifts[0, :], new_shifts[0:4, :])\n",
    "print(shifts)\n",
    "print(new_shifts)"
   ]
  },
  {
   "cell_type": "code",
   "execution_count": 65,
   "metadata": {},
   "outputs": [
    {
     "name": "stdout",
     "output_type": "stream",
     "text": [
      "tensor([[[[1, 1],\n",
      "          [1, 1]],\n",
      "\n",
      "         [[2, 2],\n",
      "          [2, 2]]]]) torch.Size([1, 2, 2, 2])\n",
      "tensor([[[[1, 1],\n",
      "          [1, 1]],\n",
      "\n",
      "         [[2, 2],\n",
      "          [2, 2]],\n",
      "\n",
      "         [[1, 1],\n",
      "          [1, 1]],\n",
      "\n",
      "         [[2, 2],\n",
      "          [2, 2]],\n",
      "\n",
      "         [[1, 1],\n",
      "          [1, 1]],\n",
      "\n",
      "         [[2, 2],\n",
      "          [2, 2]]]]) torch.Size([1, 6, 2, 2])\n",
      "tensor([[[[[1, 1],\n",
      "           [1, 1]],\n",
      "\n",
      "          [[2, 2],\n",
      "           [2, 2]]],\n",
      "\n",
      "\n",
      "         [[[1, 1],\n",
      "           [1, 1]],\n",
      "\n",
      "          [[2, 2],\n",
      "           [2, 2]]],\n",
      "\n",
      "\n",
      "         [[[1, 1],\n",
      "           [1, 1]],\n",
      "\n",
      "          [[2, 2],\n",
      "           [2, 2]]]]])\n"
     ]
    }
   ],
   "source": [
    "# Reshape test\n",
    "n = 1\n",
    "in_c = 2\n",
    "out_c = 3\n",
    "h = 2\n",
    "w = 2\n",
    "\n",
    "# A 2x2 image with 2 channels, one of them is all 1s and the other is all 2s.\n",
    "x = torch.tensor([1,1,1,1,2,2,2,2]).reshape(n, in_c, h, w)\n",
    "print(x, x.shape)\n",
    "\n",
    "# Concat the channels out_c times.\n",
    "y = torch.cat([x for _ in range(out_c)], 1)\n",
    "print(y, y.shape)\n",
    "\n",
    "# Now, should we reshape it to (n, in_c, out_c, h, w) or (n, out_c, in_c, h, w)?\n",
    "# (n, out_c, in_c, h, w) is the correct shape, as we have (n x out_c) images with in_c channels, not (n x in_c) images with out_c channels.\n",
    "z = y.reshape(n, out_c, in_c, h, w)\n",
    "print(z)"
   ]
  },
  {
   "cell_type": "code",
   "execution_count": 76,
   "metadata": {},
   "outputs": [
    {
     "name": "stdout",
     "output_type": "stream",
     "text": [
      "torch.Size([3, 2, 2])\n",
      "torch.Size([3, 4, 2])\n",
      "tensor([[0, 0],\n",
      "        [0, 0],\n",
      "        [1, 1],\n",
      "        [1, 1],\n",
      "        [2, 2],\n",
      "        [2, 2]])\n",
      "tensor([[0, 0],\n",
      "        [0, 0],\n",
      "        [0, 0],\n",
      "        [0, 0],\n",
      "        [1, 1],\n",
      "        [1, 1],\n",
      "        [1, 1],\n",
      "        [1, 1],\n",
      "        [2, 2],\n",
      "        [2, 2],\n",
      "        [2, 2],\n",
      "        [2, 2]])\n"
     ]
    }
   ],
   "source": [
    "# Shift reshape test\n",
    "in_channels = 4\n",
    "full_groups = 3\n",
    "shift_groups = 2\n",
    "shifts = torch.tensor([[[0, 1, 2], [0, 1, 2]], [[0, 1, 2], [0, 1, 2]]]).T\n",
    "print(shifts.shape)\n",
    "\n",
    "new_shifts = torch.repeat_interleave(shifts, in_channels // shift_groups, 1)\n",
    "print(new_shifts.shape)\n",
    "\n",
    "print(shifts.reshape(full_groups * shift_groups, 2))\n",
    "print(new_shifts.reshape(full_groups * in_channels, 2))"
   ]
  },
  {
   "cell_type": "code",
   "execution_count": 32,
   "metadata": {},
   "outputs": [
    {
     "data": {
      "text/plain": [
       "tensor([[[[ 0,  1,  2,  3],\n",
       "          [ 4,  5,  6,  7],\n",
       "          [ 8,  9, 10, 11],\n",
       "          [12, 13, 14, 15]],\n",
       "\n",
       "         [[16, 17, 18, 19],\n",
       "          [20, 21, 22, 23],\n",
       "          [24, 25, 26, 27],\n",
       "          [28, 29, 30, 31]],\n",
       "\n",
       "         [[32, 33, 34, 35],\n",
       "          [36, 37, 38, 39],\n",
       "          [40, 41, 42, 43],\n",
       "          [44, 45, 46, 47]],\n",
       "\n",
       "         [[ 0,  1,  2,  3],\n",
       "          [ 4,  5,  6,  7],\n",
       "          [ 8,  9, 10, 11],\n",
       "          [12, 13, 14, 15]],\n",
       "\n",
       "         [[16, 17, 18, 19],\n",
       "          [20, 21, 22, 23],\n",
       "          [24, 25, 26, 27],\n",
       "          [28, 29, 30, 31]],\n",
       "\n",
       "         [[32, 33, 34, 35],\n",
       "          [36, 37, 38, 39],\n",
       "          [40, 41, 42, 43],\n",
       "          [44, 45, 46, 47]],\n",
       "\n",
       "         [[ 0,  1,  2,  3],\n",
       "          [ 4,  5,  6,  7],\n",
       "          [ 8,  9, 10, 11],\n",
       "          [12, 13, 14, 15]],\n",
       "\n",
       "         [[16, 17, 18, 19],\n",
       "          [20, 21, 22, 23],\n",
       "          [24, 25, 26, 27],\n",
       "          [28, 29, 30, 31]],\n",
       "\n",
       "         [[32, 33, 34, 35],\n",
       "          [36, 37, 38, 39],\n",
       "          [40, 41, 42, 43],\n",
       "          [44, 45, 46, 47]],\n",
       "\n",
       "         [[ 0,  1,  2,  3],\n",
       "          [ 4,  5,  6,  7],\n",
       "          [ 8,  9, 10, 11],\n",
       "          [12, 13, 14, 15]],\n",
       "\n",
       "         [[16, 17, 18, 19],\n",
       "          [20, 21, 22, 23],\n",
       "          [24, 25, 26, 27],\n",
       "          [28, 29, 30, 31]],\n",
       "\n",
       "         [[32, 33, 34, 35],\n",
       "          [36, 37, 38, 39],\n",
       "          [40, 41, 42, 43],\n",
       "          [44, 45, 46, 47]]],\n",
       "\n",
       "\n",
       "        [[[48, 49, 50, 51],\n",
       "          [52, 53, 54, 55],\n",
       "          [56, 57, 58, 59],\n",
       "          [60, 61, 62, 63]],\n",
       "\n",
       "         [[64, 65, 66, 67],\n",
       "          [68, 69, 70, 71],\n",
       "          [72, 73, 74, 75],\n",
       "          [76, 77, 78, 79]],\n",
       "\n",
       "         [[80, 81, 82, 83],\n",
       "          [84, 85, 86, 87],\n",
       "          [88, 89, 90, 91],\n",
       "          [92, 93, 94, 95]],\n",
       "\n",
       "         [[48, 49, 50, 51],\n",
       "          [52, 53, 54, 55],\n",
       "          [56, 57, 58, 59],\n",
       "          [60, 61, 62, 63]],\n",
       "\n",
       "         [[64, 65, 66, 67],\n",
       "          [68, 69, 70, 71],\n",
       "          [72, 73, 74, 75],\n",
       "          [76, 77, 78, 79]],\n",
       "\n",
       "         [[80, 81, 82, 83],\n",
       "          [84, 85, 86, 87],\n",
       "          [88, 89, 90, 91],\n",
       "          [92, 93, 94, 95]],\n",
       "\n",
       "         [[48, 49, 50, 51],\n",
       "          [52, 53, 54, 55],\n",
       "          [56, 57, 58, 59],\n",
       "          [60, 61, 62, 63]],\n",
       "\n",
       "         [[64, 65, 66, 67],\n",
       "          [68, 69, 70, 71],\n",
       "          [72, 73, 74, 75],\n",
       "          [76, 77, 78, 79]],\n",
       "\n",
       "         [[80, 81, 82, 83],\n",
       "          [84, 85, 86, 87],\n",
       "          [88, 89, 90, 91],\n",
       "          [92, 93, 94, 95]],\n",
       "\n",
       "         [[48, 49, 50, 51],\n",
       "          [52, 53, 54, 55],\n",
       "          [56, 57, 58, 59],\n",
       "          [60, 61, 62, 63]],\n",
       "\n",
       "         [[64, 65, 66, 67],\n",
       "          [68, 69, 70, 71],\n",
       "          [72, 73, 74, 75],\n",
       "          [76, 77, 78, 79]],\n",
       "\n",
       "         [[80, 81, 82, 83],\n",
       "          [84, 85, 86, 87],\n",
       "          [88, 89, 90, 91],\n",
       "          [92, 93, 94, 95]]]])"
      ]
     },
     "execution_count": 32,
     "metadata": {},
     "output_type": "execute_result"
    }
   ],
   "source": [
    "torch.cat(x.tile(4).chunk(4, -1), 1)"
   ]
  },
  {
   "cell_type": "code",
   "execution_count": null,
   "metadata": {},
   "outputs": [],
   "source": []
  }
 ],
 "metadata": {
  "kernelspec": {
   "display_name": "Python 3",
   "language": "python",
   "name": "python3"
  },
  "language_info": {
   "codemirror_mode": {
    "name": "ipython",
    "version": 3
   },
   "file_extension": ".py",
   "mimetype": "text/x-python",
   "name": "python",
   "nbconvert_exporter": "python",
   "pygments_lexer": "ipython3",
   "version": "3.9.7"
  },
  "orig_nbformat": 4,
  "vscode": {
   "interpreter": {
    "hash": "aee8b7b246df8f9039afb4144a1f6fd8d2ca17a180786b69acc140d282b71a49"
   }
  }
 },
 "nbformat": 4,
 "nbformat_minor": 2
}
